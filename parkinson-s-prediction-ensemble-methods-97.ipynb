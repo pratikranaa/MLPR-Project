{
 "cells": [
  {
   "cell_type": "markdown",
   "id": "7dc3b738",
   "metadata": {
    "papermill": {
     "duration": 0.008809,
     "end_time": "2024-04-21T06:49:57.466424",
     "exception": false,
     "start_time": "2024-04-21T06:49:57.457615",
     "status": "completed"
    },
    "tags": []
   },
   "source": [
    "## Loading modules"
   ]
  },
  {
   "cell_type": "code",
   "execution_count": 1,
   "id": "fb51dfe3",
   "metadata": {
    "execution": {
     "iopub.execute_input": "2024-04-21T06:49:57.487259Z",
     "iopub.status.busy": "2024-04-21T06:49:57.486588Z",
     "iopub.status.idle": "2024-04-21T06:50:00.146648Z",
     "shell.execute_reply": "2024-04-21T06:50:00.143253Z"
    },
    "papermill": {
     "duration": 2.676242,
     "end_time": "2024-04-21T06:50:00.151987",
     "exception": false,
     "start_time": "2024-04-21T06:49:57.475745",
     "status": "completed"
    },
    "tags": []
   },
   "outputs": [],
   "source": [
    "import pandas as pd\n",
    "import numpy as np\n",
    "from sklearn.model_selection import train_test_split\n",
    "from sklearn.preprocessing import StandardScaler\n",
    "from sklearn import svm\n",
    "import seaborn as sns\n",
    "import plotly.express as px\n",
    "import matplotlib.pyplot as plt\n",
    "from sklearn.metrics import accuracy_score\n",
    "from sklearn.linear_model import LogisticRegression\n",
    "from statsmodels.stats.outliers_influence import variance_inflation_factor\n",
    "from statsmodels.tools.tools import add_constant\n",
    "from sklearn.metrics import mean_squared_error,classification_report,confusion_matrix,roc_curve,roc_auc_score,ConfusionMatrixDisplay\n",
    "from sklearn.model_selection import train_test_split, LeaveOneOut, KFold, cross_val_score,GridSearchCV"
   ]
  },
  {
   "cell_type": "code",
   "execution_count": 3,
   "id": "bfd9ecf9",
   "metadata": {
    "execution": {
     "iopub.execute_input": "2024-04-21T06:50:00.178071Z",
     "iopub.status.busy": "2024-04-21T06:50:00.177670Z",
     "iopub.status.idle": "2024-04-21T06:50:00.183476Z",
     "shell.execute_reply": "2024-04-21T06:50:00.181719Z"
    },
    "papermill": {
     "duration": 0.021271,
     "end_time": "2024-04-21T06:50:00.186803",
     "exception": false,
     "start_time": "2024-04-21T06:50:00.165532",
     "status": "completed"
    },
    "tags": []
   },
   "outputs": [],
   "source": [
    "pd.set_option('display.max_rows', 754)"
   ]
  },
  {
   "cell_type": "code",
   "execution_count": 2,
   "id": "e5d3e305",
   "metadata": {
    "execution": {
     "iopub.execute_input": "2024-04-21T06:50:00.216593Z",
     "iopub.status.busy": "2024-04-21T06:50:00.215945Z",
     "iopub.status.idle": "2024-04-21T06:50:00.247432Z",
     "shell.execute_reply": "2024-04-21T06:50:00.246388Z"
    },
    "papermill": {
     "duration": 0.051155,
     "end_time": "2024-04-21T06:50:00.250422",
     "exception": false,
     "start_time": "2024-04-21T06:50:00.199267",
     "status": "completed"
    },
    "tags": []
   },
   "outputs": [],
   "source": [
    "df = pd.read_csv('Final_data.csv')"
   ]
  },
  {
   "cell_type": "code",
   "execution_count": 3,
   "id": "5e408005",
   "metadata": {
    "execution": {
     "iopub.execute_input": "2024-04-21T06:50:00.282278Z",
     "iopub.status.busy": "2024-04-21T06:50:00.279435Z",
     "iopub.status.idle": "2024-04-21T06:50:00.383737Z",
     "shell.execute_reply": "2024-04-21T06:50:00.382270Z"
    },
    "papermill": {
     "duration": 0.122034,
     "end_time": "2024-04-21T06:50:00.385890",
     "exception": false,
     "start_time": "2024-04-21T06:50:00.263856",
     "status": "completed"
    },
    "tags": []
   },
   "outputs": [
    {
     "data": {
      "text/html": [
       "<div>\n",
       "<style scoped>\n",
       "    .dataframe tbody tr th:only-of-type {\n",
       "        vertical-align: middle;\n",
       "    }\n",
       "\n",
       "    .dataframe tbody tr th {\n",
       "        vertical-align: top;\n",
       "    }\n",
       "\n",
       "    .dataframe thead th {\n",
       "        text-align: right;\n",
       "    }\n",
       "</style>\n",
       "<table border=\"1\" class=\"dataframe\">\n",
       "  <thead>\n",
       "    <tr style=\"text-align: right;\">\n",
       "      <th></th>\n",
       "      <th>MDVP:Fo(Hz)</th>\n",
       "      <th>MDVP:Fhi(Hz)</th>\n",
       "      <th>MDVP:Flo(Hz)</th>\n",
       "      <th>MDVP:Jitter(%)</th>\n",
       "      <th>MDVP:Jitter(Abs)</th>\n",
       "      <th>MDVP:RAP</th>\n",
       "      <th>MDVP:PPQ</th>\n",
       "      <th>Jitter:DDP</th>\n",
       "      <th>MDVP:Shimmer</th>\n",
       "      <th>MDVP:Shimmer (dB)</th>\n",
       "      <th>...</th>\n",
       "      <th>MDVP:APQ</th>\n",
       "      <th>Shimmer:DDA</th>\n",
       "      <th>NHR</th>\n",
       "      <th>HNR</th>\n",
       "      <th>status</th>\n",
       "      <th>RPDE</th>\n",
       "      <th>spread1</th>\n",
       "      <th>spread2</th>\n",
       "      <th>D2</th>\n",
       "      <th>PPE</th>\n",
       "    </tr>\n",
       "  </thead>\n",
       "  <tbody>\n",
       "    <tr>\n",
       "      <th>count</th>\n",
       "      <td>978.000000</td>\n",
       "      <td>978.000000</td>\n",
       "      <td>978.000000</td>\n",
       "      <td>978.000000</td>\n",
       "      <td>978.000000</td>\n",
       "      <td>978.000000</td>\n",
       "      <td>978.000000</td>\n",
       "      <td>978.000000</td>\n",
       "      <td>978.000000</td>\n",
       "      <td>978.000000</td>\n",
       "      <td>...</td>\n",
       "      <td>9.780000e+02</td>\n",
       "      <td>978.000000</td>\n",
       "      <td>978.000000</td>\n",
       "      <td>978.000000</td>\n",
       "      <td>978.000000</td>\n",
       "      <td>9.780000e+02</td>\n",
       "      <td>978.000000</td>\n",
       "      <td>978.000000</td>\n",
       "      <td>978.000000</td>\n",
       "      <td>966.000000</td>\n",
       "    </tr>\n",
       "    <tr>\n",
       "      <th>mean</th>\n",
       "      <td>158.007047</td>\n",
       "      <td>213.238856</td>\n",
       "      <td>118.721585</td>\n",
       "      <td>7.986537</td>\n",
       "      <td>2.167202</td>\n",
       "      <td>2.167831</td>\n",
       "      <td>2.914301</td>\n",
       "      <td>0.003196</td>\n",
       "      <td>0.008474</td>\n",
       "      <td>-44.985927</td>\n",
       "      <td>...</td>\n",
       "      <td>4.684167e-03</td>\n",
       "      <td>0.020215</td>\n",
       "      <td>404.078559</td>\n",
       "      <td>4.603794</td>\n",
       "      <td>0.594070</td>\n",
       "      <td>9.772676e-02</td>\n",
       "      <td>10.777728</td>\n",
       "      <td>26.570975</td>\n",
       "      <td>0.607364</td>\n",
       "      <td>0.044455</td>\n",
       "    </tr>\n",
       "    <tr>\n",
       "      <th>std</th>\n",
       "      <td>39.055395</td>\n",
       "      <td>91.236235</td>\n",
       "      <td>42.611636</td>\n",
       "      <td>10.566513</td>\n",
       "      <td>2.708013</td>\n",
       "      <td>2.707510</td>\n",
       "      <td>3.781503</td>\n",
       "      <td>0.005556</td>\n",
       "      <td>0.013810</td>\n",
       "      <td>24.959183</td>\n",
       "      <td>...</td>\n",
       "      <td>1.187287e-02</td>\n",
       "      <td>0.020763</td>\n",
       "      <td>8358.915432</td>\n",
       "      <td>8.798269</td>\n",
       "      <td>0.491322</td>\n",
       "      <td>2.030780e-01</td>\n",
       "      <td>20.081649</td>\n",
       "      <td>40.236987</td>\n",
       "      <td>0.910481</td>\n",
       "      <td>0.090279</td>\n",
       "    </tr>\n",
       "    <tr>\n",
       "      <th>min</th>\n",
       "      <td>86.257127</td>\n",
       "      <td>90.749557</td>\n",
       "      <td>65.476000</td>\n",
       "      <td>0.001680</td>\n",
       "      <td>0.000007</td>\n",
       "      <td>0.000680</td>\n",
       "      <td>0.000920</td>\n",
       "      <td>0.000014</td>\n",
       "      <td>0.000011</td>\n",
       "      <td>-99.458189</td>\n",
       "      <td>...</td>\n",
       "      <td>3.277792e-10</td>\n",
       "      <td>0.000539</td>\n",
       "      <td>0.000650</td>\n",
       "      <td>0.000004</td>\n",
       "      <td>0.000000</td>\n",
       "      <td>-1.442695e-10</td>\n",
       "      <td>-7.964984</td>\n",
       "      <td>0.006274</td>\n",
       "      <td>0.005576</td>\n",
       "      <td>0.000000</td>\n",
       "    </tr>\n",
       "    <tr>\n",
       "      <th>25%</th>\n",
       "      <td>126.022657</td>\n",
       "      <td>150.868941</td>\n",
       "      <td>79.009558</td>\n",
       "      <td>1.059022</td>\n",
       "      <td>0.372211</td>\n",
       "      <td>0.372211</td>\n",
       "      <td>0.539902</td>\n",
       "      <td>0.000327</td>\n",
       "      <td>0.000898</td>\n",
       "      <td>-60.938406</td>\n",
       "      <td>...</td>\n",
       "      <td>8.264765e-07</td>\n",
       "      <td>0.005990</td>\n",
       "      <td>1.912383</td>\n",
       "      <td>0.305529</td>\n",
       "      <td>0.000000</td>\n",
       "      <td>-1.442695e-10</td>\n",
       "      <td>1.555188</td>\n",
       "      <td>3.147212</td>\n",
       "      <td>0.035881</td>\n",
       "      <td>0.000000</td>\n",
       "    </tr>\n",
       "    <tr>\n",
       "      <th>50%</th>\n",
       "      <td>153.998974</td>\n",
       "      <td>194.525933</td>\n",
       "      <td>109.810714</td>\n",
       "      <td>2.650771</td>\n",
       "      <td>0.829123</td>\n",
       "      <td>0.829123</td>\n",
       "      <td>0.983854</td>\n",
       "      <td>0.001147</td>\n",
       "      <td>0.002685</td>\n",
       "      <td>-51.420403</td>\n",
       "      <td>...</td>\n",
       "      <td>6.700124e-06</td>\n",
       "      <td>0.015345</td>\n",
       "      <td>2.297072</td>\n",
       "      <td>0.435337</td>\n",
       "      <td>1.000000</td>\n",
       "      <td>-1.442695e-10</td>\n",
       "      <td>3.420105</td>\n",
       "      <td>7.204311</td>\n",
       "      <td>0.165681</td>\n",
       "      <td>-0.000000</td>\n",
       "    </tr>\n",
       "    <tr>\n",
       "      <th>75%</th>\n",
       "      <td>182.431943</td>\n",
       "      <td>242.272250</td>\n",
       "      <td>148.587526</td>\n",
       "      <td>13.360522</td>\n",
       "      <td>3.695631</td>\n",
       "      <td>3.695631</td>\n",
       "      <td>5.205679</td>\n",
       "      <td>0.003881</td>\n",
       "      <td>0.009346</td>\n",
       "      <td>-40.587682</td>\n",
       "      <td>...</td>\n",
       "      <td>9.555924e-05</td>\n",
       "      <td>0.025499</td>\n",
       "      <td>3.273018</td>\n",
       "      <td>0.522908</td>\n",
       "      <td>1.000000</td>\n",
       "      <td>-1.442695e-10</td>\n",
       "      <td>15.267445</td>\n",
       "      <td>39.580668</td>\n",
       "      <td>0.637197</td>\n",
       "      <td>0.023006</td>\n",
       "    </tr>\n",
       "    <tr>\n",
       "      <th>max</th>\n",
       "      <td>484.880130</td>\n",
       "      <td>600.000000</td>\n",
       "      <td>470.750459</td>\n",
       "      <td>69.253350</td>\n",
       "      <td>23.962757</td>\n",
       "      <td>23.962757</td>\n",
       "      <td>44.243249</td>\n",
       "      <td>0.064330</td>\n",
       "      <td>0.119080</td>\n",
       "      <td>1.302000</td>\n",
       "      <td>...</td>\n",
       "      <td>1.377800e-01</td>\n",
       "      <td>0.169420</td>\n",
       "      <td>228779.330000</td>\n",
       "      <td>33.047000</td>\n",
       "      <td>1.000000</td>\n",
       "      <td>6.851510e-01</td>\n",
       "      <td>148.697938</td>\n",
       "      <td>369.212867</td>\n",
       "      <td>3.671155</td>\n",
       "      <td>0.527367</td>\n",
       "    </tr>\n",
       "  </tbody>\n",
       "</table>\n",
       "<p>8 rows × 22 columns</p>\n",
       "</div>"
      ],
      "text/plain": [
       "       MDVP:Fo(Hz)  MDVP:Fhi(Hz)  MDVP:Flo(Hz)  MDVP:Jitter(%)  \\\n",
       "count   978.000000    978.000000    978.000000      978.000000   \n",
       "mean    158.007047    213.238856    118.721585        7.986537   \n",
       "std      39.055395     91.236235     42.611636       10.566513   \n",
       "min      86.257127     90.749557     65.476000        0.001680   \n",
       "25%     126.022657    150.868941     79.009558        1.059022   \n",
       "50%     153.998974    194.525933    109.810714        2.650771   \n",
       "75%     182.431943    242.272250    148.587526       13.360522   \n",
       "max     484.880130    600.000000    470.750459       69.253350   \n",
       "\n",
       "       MDVP:Jitter(Abs)    MDVP:RAP    MDVP:PPQ  Jitter:DDP  MDVP:Shimmer  \\\n",
       "count        978.000000  978.000000  978.000000  978.000000    978.000000   \n",
       "mean           2.167202    2.167831    2.914301    0.003196      0.008474   \n",
       "std            2.708013    2.707510    3.781503    0.005556      0.013810   \n",
       "min            0.000007    0.000680    0.000920    0.000014      0.000011   \n",
       "25%            0.372211    0.372211    0.539902    0.000327      0.000898   \n",
       "50%            0.829123    0.829123    0.983854    0.001147      0.002685   \n",
       "75%            3.695631    3.695631    5.205679    0.003881      0.009346   \n",
       "max           23.962757   23.962757   44.243249    0.064330      0.119080   \n",
       "\n",
       "       MDVP:Shimmer (dB)  ...      MDVP:APQ  Shimmer:DDA            NHR  \\\n",
       "count         978.000000  ...  9.780000e+02   978.000000     978.000000   \n",
       "mean          -44.985927  ...  4.684167e-03     0.020215     404.078559   \n",
       "std            24.959183  ...  1.187287e-02     0.020763    8358.915432   \n",
       "min           -99.458189  ...  3.277792e-10     0.000539       0.000650   \n",
       "25%           -60.938406  ...  8.264765e-07     0.005990       1.912383   \n",
       "50%           -51.420403  ...  6.700124e-06     0.015345       2.297072   \n",
       "75%           -40.587682  ...  9.555924e-05     0.025499       3.273018   \n",
       "max             1.302000  ...  1.377800e-01     0.169420  228779.330000   \n",
       "\n",
       "              HNR      status          RPDE     spread1     spread2  \\\n",
       "count  978.000000  978.000000  9.780000e+02  978.000000  978.000000   \n",
       "mean     4.603794    0.594070  9.772676e-02   10.777728   26.570975   \n",
       "std      8.798269    0.491322  2.030780e-01   20.081649   40.236987   \n",
       "min      0.000004    0.000000 -1.442695e-10   -7.964984    0.006274   \n",
       "25%      0.305529    0.000000 -1.442695e-10    1.555188    3.147212   \n",
       "50%      0.435337    1.000000 -1.442695e-10    3.420105    7.204311   \n",
       "75%      0.522908    1.000000 -1.442695e-10   15.267445   39.580668   \n",
       "max     33.047000    1.000000  6.851510e-01  148.697938  369.212867   \n",
       "\n",
       "               D2         PPE  \n",
       "count  978.000000  966.000000  \n",
       "mean     0.607364    0.044455  \n",
       "std      0.910481    0.090279  \n",
       "min      0.005576    0.000000  \n",
       "25%      0.035881    0.000000  \n",
       "50%      0.165681   -0.000000  \n",
       "75%      0.637197    0.023006  \n",
       "max      3.671155    0.527367  \n",
       "\n",
       "[8 rows x 22 columns]"
      ]
     },
     "execution_count": 3,
     "metadata": {},
     "output_type": "execute_result"
    }
   ],
   "source": [
    "df.describe()"
   ]
  },
  {
   "cell_type": "code",
   "execution_count": 4,
   "id": "1b799e7b",
   "metadata": {
    "execution": {
     "iopub.execute_input": "2024-04-21T06:50:00.408289Z",
     "iopub.status.busy": "2024-04-21T06:50:00.407735Z",
     "iopub.status.idle": "2024-04-21T06:50:00.440787Z",
     "shell.execute_reply": "2024-04-21T06:50:00.438880Z"
    },
    "papermill": {
     "duration": 0.04927,
     "end_time": "2024-04-21T06:50:00.444766",
     "exception": false,
     "start_time": "2024-04-21T06:50:00.395496",
     "status": "completed"
    },
    "tags": []
   },
   "outputs": [
    {
     "data": {
      "text/html": [
       "<div>\n",
       "<style scoped>\n",
       "    .dataframe tbody tr th:only-of-type {\n",
       "        vertical-align: middle;\n",
       "    }\n",
       "\n",
       "    .dataframe tbody tr th {\n",
       "        vertical-align: top;\n",
       "    }\n",
       "\n",
       "    .dataframe thead th {\n",
       "        text-align: right;\n",
       "    }\n",
       "</style>\n",
       "<table border=\"1\" class=\"dataframe\">\n",
       "  <thead>\n",
       "    <tr style=\"text-align: right;\">\n",
       "      <th></th>\n",
       "      <th>Person</th>\n",
       "      <th>Wav file</th>\n",
       "      <th>MDVP:Fo(Hz)</th>\n",
       "      <th>MDVP:Fhi(Hz)</th>\n",
       "      <th>MDVP:Flo(Hz)</th>\n",
       "      <th>MDVP:Jitter(%)</th>\n",
       "      <th>MDVP:Jitter(Abs)</th>\n",
       "      <th>MDVP:RAP</th>\n",
       "      <th>MDVP:PPQ</th>\n",
       "      <th>Jitter:DDP</th>\n",
       "      <th>...</th>\n",
       "      <th>Shimmer:DDA</th>\n",
       "      <th>NHR</th>\n",
       "      <th>HNR</th>\n",
       "      <th>status</th>\n",
       "      <th>RPDE</th>\n",
       "      <th>spread1</th>\n",
       "      <th>spread2</th>\n",
       "      <th>D2</th>\n",
       "      <th>PPE</th>\n",
       "      <th>language</th>\n",
       "    </tr>\n",
       "  </thead>\n",
       "  <tbody>\n",
       "    <tr>\n",
       "      <th>0</th>\n",
       "      <td>phon_R01_S01</td>\n",
       "      <td>1</td>\n",
       "      <td>119.992</td>\n",
       "      <td>157.302</td>\n",
       "      <td>74.997</td>\n",
       "      <td>0.00784</td>\n",
       "      <td>0.00007</td>\n",
       "      <td>0.00370</td>\n",
       "      <td>0.00554</td>\n",
       "      <td>0.01109</td>\n",
       "      <td>...</td>\n",
       "      <td>0.06545</td>\n",
       "      <td>0.02211</td>\n",
       "      <td>21.033</td>\n",
       "      <td>1</td>\n",
       "      <td>0.414783</td>\n",
       "      <td>-4.813031</td>\n",
       "      <td>0.266482</td>\n",
       "      <td>2.301442</td>\n",
       "      <td>0.284654</td>\n",
       "      <td>English</td>\n",
       "    </tr>\n",
       "    <tr>\n",
       "      <th>1</th>\n",
       "      <td>phon_R01_S01</td>\n",
       "      <td>2</td>\n",
       "      <td>122.400</td>\n",
       "      <td>148.650</td>\n",
       "      <td>113.819</td>\n",
       "      <td>0.00968</td>\n",
       "      <td>0.00008</td>\n",
       "      <td>0.00465</td>\n",
       "      <td>0.00696</td>\n",
       "      <td>0.01394</td>\n",
       "      <td>...</td>\n",
       "      <td>0.09403</td>\n",
       "      <td>0.01929</td>\n",
       "      <td>19.085</td>\n",
       "      <td>1</td>\n",
       "      <td>0.458359</td>\n",
       "      <td>-4.075192</td>\n",
       "      <td>0.335590</td>\n",
       "      <td>2.486855</td>\n",
       "      <td>0.368674</td>\n",
       "      <td>English</td>\n",
       "    </tr>\n",
       "    <tr>\n",
       "      <th>2</th>\n",
       "      <td>phon_R01_S01</td>\n",
       "      <td>3</td>\n",
       "      <td>116.682</td>\n",
       "      <td>131.111</td>\n",
       "      <td>111.555</td>\n",
       "      <td>0.01050</td>\n",
       "      <td>0.00009</td>\n",
       "      <td>0.00544</td>\n",
       "      <td>0.00781</td>\n",
       "      <td>0.01633</td>\n",
       "      <td>...</td>\n",
       "      <td>0.08270</td>\n",
       "      <td>0.01309</td>\n",
       "      <td>20.651</td>\n",
       "      <td>1</td>\n",
       "      <td>0.429895</td>\n",
       "      <td>-4.443179</td>\n",
       "      <td>0.311173</td>\n",
       "      <td>2.342259</td>\n",
       "      <td>0.332634</td>\n",
       "      <td>English</td>\n",
       "    </tr>\n",
       "    <tr>\n",
       "      <th>3</th>\n",
       "      <td>phon_R01_S01</td>\n",
       "      <td>4</td>\n",
       "      <td>116.676</td>\n",
       "      <td>137.871</td>\n",
       "      <td>111.366</td>\n",
       "      <td>0.00997</td>\n",
       "      <td>0.00009</td>\n",
       "      <td>0.00502</td>\n",
       "      <td>0.00698</td>\n",
       "      <td>0.01505</td>\n",
       "      <td>...</td>\n",
       "      <td>0.08771</td>\n",
       "      <td>0.01353</td>\n",
       "      <td>20.644</td>\n",
       "      <td>1</td>\n",
       "      <td>0.434969</td>\n",
       "      <td>-4.117501</td>\n",
       "      <td>0.334147</td>\n",
       "      <td>2.405554</td>\n",
       "      <td>0.368975</td>\n",
       "      <td>English</td>\n",
       "    </tr>\n",
       "    <tr>\n",
       "      <th>4</th>\n",
       "      <td>phon_R01_S01</td>\n",
       "      <td>5</td>\n",
       "      <td>116.014</td>\n",
       "      <td>141.781</td>\n",
       "      <td>110.655</td>\n",
       "      <td>0.01284</td>\n",
       "      <td>0.00011</td>\n",
       "      <td>0.00655</td>\n",
       "      <td>0.00908</td>\n",
       "      <td>0.01966</td>\n",
       "      <td>...</td>\n",
       "      <td>0.10470</td>\n",
       "      <td>0.01767</td>\n",
       "      <td>19.649</td>\n",
       "      <td>1</td>\n",
       "      <td>0.417356</td>\n",
       "      <td>-3.747787</td>\n",
       "      <td>0.234513</td>\n",
       "      <td>2.332180</td>\n",
       "      <td>0.410335</td>\n",
       "      <td>English</td>\n",
       "    </tr>\n",
       "  </tbody>\n",
       "</table>\n",
       "<p>5 rows × 25 columns</p>\n",
       "</div>"
      ],
      "text/plain": [
       "         Person Wav file  MDVP:Fo(Hz)  MDVP:Fhi(Hz)  MDVP:Flo(Hz)  \\\n",
       "0  phon_R01_S01        1      119.992       157.302        74.997   \n",
       "1  phon_R01_S01        2      122.400       148.650       113.819   \n",
       "2  phon_R01_S01        3      116.682       131.111       111.555   \n",
       "3  phon_R01_S01        4      116.676       137.871       111.366   \n",
       "4  phon_R01_S01        5      116.014       141.781       110.655   \n",
       "\n",
       "   MDVP:Jitter(%)  MDVP:Jitter(Abs)  MDVP:RAP  MDVP:PPQ  Jitter:DDP  ...  \\\n",
       "0         0.00784           0.00007   0.00370   0.00554     0.01109  ...   \n",
       "1         0.00968           0.00008   0.00465   0.00696     0.01394  ...   \n",
       "2         0.01050           0.00009   0.00544   0.00781     0.01633  ...   \n",
       "3         0.00997           0.00009   0.00502   0.00698     0.01505  ...   \n",
       "4         0.01284           0.00011   0.00655   0.00908     0.01966  ...   \n",
       "\n",
       "   Shimmer:DDA      NHR     HNR  status      RPDE   spread1   spread2  \\\n",
       "0      0.06545  0.02211  21.033       1  0.414783 -4.813031  0.266482   \n",
       "1      0.09403  0.01929  19.085       1  0.458359 -4.075192  0.335590   \n",
       "2      0.08270  0.01309  20.651       1  0.429895 -4.443179  0.311173   \n",
       "3      0.08771  0.01353  20.644       1  0.434969 -4.117501  0.334147   \n",
       "4      0.10470  0.01767  19.649       1  0.417356 -3.747787  0.234513   \n",
       "\n",
       "         D2       PPE  language  \n",
       "0  2.301442  0.284654   English  \n",
       "1  2.486855  0.368674   English  \n",
       "2  2.342259  0.332634   English  \n",
       "3  2.405554  0.368975   English  \n",
       "4  2.332180  0.410335   English  \n",
       "\n",
       "[5 rows x 25 columns]"
      ]
     },
     "execution_count": 4,
     "metadata": {},
     "output_type": "execute_result"
    }
   ],
   "source": [
    "df.head()"
   ]
  },
  {
   "cell_type": "code",
   "execution_count": 5,
   "id": "4067f964",
   "metadata": {
    "execution": {
     "iopub.execute_input": "2024-04-21T06:50:00.473028Z",
     "iopub.status.busy": "2024-04-21T06:50:00.472108Z",
     "iopub.status.idle": "2024-04-21T06:50:00.480820Z",
     "shell.execute_reply": "2024-04-21T06:50:00.479161Z"
    },
    "papermill": {
     "duration": 0.024174,
     "end_time": "2024-04-21T06:50:00.482574",
     "exception": false,
     "start_time": "2024-04-21T06:50:00.458400",
     "status": "completed"
    },
    "tags": []
   },
   "outputs": [
    {
     "data": {
      "text/plain": [
       "Index(['Person', 'Wav file', 'MDVP:Fo(Hz)', 'MDVP:Fhi(Hz)', 'MDVP:Flo(Hz)',\n",
       "       'MDVP:Jitter(%)', 'MDVP:Jitter(Abs)', 'MDVP:RAP', 'MDVP:PPQ',\n",
       "       'Jitter:DDP', 'MDVP:Shimmer', 'MDVP:Shimmer (dB)', 'Shimmer:APQ3',\n",
       "       'Shimmer:APQ5', 'MDVP:APQ', 'Shimmer:DDA', 'NHR', 'HNR', 'status',\n",
       "       'RPDE', 'spread1', 'spread2', 'D2', 'PPE', 'language'],\n",
       "      dtype='object')"
      ]
     },
     "execution_count": 5,
     "metadata": {},
     "output_type": "execute_result"
    }
   ],
   "source": [
    "df.columns"
   ]
  },
  {
   "cell_type": "code",
   "execution_count": 6,
   "id": "b63e9ed0",
   "metadata": {
    "execution": {
     "iopub.execute_input": "2024-04-21T06:50:00.504768Z",
     "iopub.status.busy": "2024-04-21T06:50:00.504393Z",
     "iopub.status.idle": "2024-04-21T06:50:00.513587Z",
     "shell.execute_reply": "2024-04-21T06:50:00.511992Z"
    },
    "papermill": {
     "duration": 0.024127,
     "end_time": "2024-04-21T06:50:00.516192",
     "exception": false,
     "start_time": "2024-04-21T06:50:00.492065",
     "status": "completed"
    },
    "tags": []
   },
   "outputs": [
    {
     "data": {
      "text/plain": [
       "Person                0\n",
       "Wav file              0\n",
       "MDVP:Fo(Hz)           0\n",
       "MDVP:Fhi(Hz)          0\n",
       "MDVP:Flo(Hz)          0\n",
       "MDVP:Jitter(%)        0\n",
       "MDVP:Jitter(Abs)      0\n",
       "MDVP:RAP              0\n",
       "MDVP:PPQ              0\n",
       "Jitter:DDP            0\n",
       "MDVP:Shimmer          0\n",
       "MDVP:Shimmer (dB)     0\n",
       "Shimmer:APQ3          0\n",
       "Shimmer:APQ5          0\n",
       "MDVP:APQ              0\n",
       "Shimmer:DDA           0\n",
       "NHR                   0\n",
       "HNR                   0\n",
       "status                0\n",
       "RPDE                  0\n",
       "spread1               0\n",
       "spread2               0\n",
       "D2                    0\n",
       "PPE                  12\n",
       "language              0\n",
       "dtype: int64"
      ]
     },
     "execution_count": 6,
     "metadata": {},
     "output_type": "execute_result"
    }
   ],
   "source": [
    "df.isnull().sum()"
   ]
  },
  {
   "cell_type": "code",
   "execution_count": 7,
   "id": "98d2513d",
   "metadata": {
    "execution": {
     "iopub.execute_input": "2024-04-21T06:50:00.559984Z",
     "iopub.status.busy": "2024-04-21T06:50:00.559600Z",
     "iopub.status.idle": "2024-04-21T06:50:00.826253Z",
     "shell.execute_reply": "2024-04-21T06:50:00.824655Z"
    },
    "papermill": {
     "duration": 0.282309,
     "end_time": "2024-04-21T06:50:00.829121",
     "exception": false,
     "start_time": "2024-04-21T06:50:00.546812",
     "status": "completed"
    },
    "tags": []
   },
   "outputs": [
    {
     "name": "stderr",
     "output_type": "stream",
     "text": [
      "/tmp/ipykernel_157744/722335332.py:1: FutureWarning: pandas.value_counts is deprecated and will be removed in a future version. Use pd.Series(obj).value_counts() instead.\n",
      "  count = pd.value_counts(df['status'], sort = True)\n"
     ]
    },
    {
     "data": {
      "image/png": "[encoded data removed]",
      "text/plain": [
       "<Figure size 640x480 with 1 Axes>"
      ]
     },
     "metadata": {},
     "output_type": "display_data"
    }
   ],
   "source": [
    "count = pd.value_counts(df['status'], sort = True)\n",
    "count.plot(kind = \"bar\")\n",
    "plt.title(\"Output amount \")\n",
    "plt.xlabel(\"status\")\n",
    "plt.ylabel(\"frequency\")\n",
    "plt.show()"
   ]
  },
  {
   "cell_type": "code",
   "execution_count": 8,
   "id": "18d222c6",
   "metadata": {
    "execution": {
     "iopub.execute_input": "2024-04-21T06:50:00.851732Z",
     "iopub.status.busy": "2024-04-21T06:50:00.851335Z",
     "iopub.status.idle": "2024-04-21T06:50:00.874112Z",
     "shell.execute_reply": "2024-04-21T06:50:00.871620Z"
    },
    "papermill": {
     "duration": 0.036965,
     "end_time": "2024-04-21T06:50:00.876574",
     "exception": false,
     "start_time": "2024-04-21T06:50:00.839609",
     "status": "completed"
    },
    "tags": []
   },
   "outputs": [
    {
     "name": "stdout",
     "output_type": "stream",
     "text": [
      "<class 'pandas.core.frame.DataFrame'>\n",
      "RangeIndex: 978 entries, 0 to 977\n",
      "Data columns (total 25 columns):\n",
      " #   Column             Non-Null Count  Dtype  \n",
      "---  ------             --------------  -----  \n",
      " 0   Person             978 non-null    object \n",
      " 1   Wav file           978 non-null    object \n",
      " 2   MDVP:Fo(Hz)        978 non-null    float64\n",
      " 3   MDVP:Fhi(Hz)       978 non-null    float64\n",
      " 4   MDVP:Flo(Hz)       978 non-null    float64\n",
      " 5   MDVP:Jitter(%)     978 non-null    float64\n",
      " 6   MDVP:Jitter(Abs)   978 non-null    float64\n",
      " 7   MDVP:RAP           978 non-null    float64\n",
      " 8   MDVP:PPQ           978 non-null    float64\n",
      " 9   Jitter:DDP         978 non-null    float64\n",
      " 10  MDVP:Shimmer       978 non-null    float64\n",
      " 11  MDVP:Shimmer (dB)  978 non-null    float64\n",
      " 12  Shimmer:APQ3       978 non-null    float64\n",
      " 13  Shimmer:APQ5       978 non-null    float64\n",
      " 14  MDVP:APQ           978 non-null    float64\n",
      " 15  Shimmer:DDA        978 non-null    float64\n",
      " 16  NHR                978 non-null    float64\n",
      " 17  HNR                978 non-null    float64\n",
      " 18  status             978 non-null    int64  \n",
      " 19  RPDE               978 non-null    float64\n",
      " 20  spread1            978 non-null    float64\n",
      " 21  spread2            978 non-null    float64\n",
      " 22  D2                 978 non-null    float64\n",
      " 23  PPE                966 non-null    float64\n",
      " 24  language           978 non-null    object \n",
      "dtypes: float64(21), int64(1), object(3)\n",
      "memory usage: 191.1+ KB\n"
     ]
    }
   ],
   "source": [
    "df.info()"
   ]
  },
  {
   "cell_type": "code",
   "execution_count": 10,
   "id": "208fa828",
   "metadata": {
    "execution": {
     "iopub.execute_input": "2024-04-21T06:50:00.898559Z",
     "iopub.status.busy": "2024-04-21T06:50:00.898182Z",
     "iopub.status.idle": "2024-04-21T06:50:00.904163Z",
     "shell.execute_reply": "2024-04-21T06:50:00.902836Z"
    },
    "papermill": {
     "duration": 0.019401,
     "end_time": "2024-04-21T06:50:00.906074",
     "exception": false,
     "start_time": "2024-04-21T06:50:00.886673",
     "status": "completed"
    },
    "tags": []
   },
   "outputs": [],
   "source": [
    "df=df.drop('Person',axis=1)\n",
    "df=df.drop('Wav file',axis=1)"
   ]
  },
  {
   "cell_type": "code",
   "execution_count": 11,
   "id": "2f4017c1",
   "metadata": {
    "execution": {
     "iopub.execute_input": "2024-04-21T06:50:00.928170Z",
     "iopub.status.busy": "2024-04-21T06:50:00.927670Z",
     "iopub.status.idle": "2024-04-21T06:50:05.397072Z",
     "shell.execute_reply": "2024-04-21T06:50:05.395735Z"
    },
    "papermill": {
     "duration": 4.482832,
     "end_time": "2024-04-21T06:50:05.399014",
     "exception": false,
     "start_time": "2024-04-21T06:50:00.916182",
     "status": "completed"
    },
    "tags": []
   },
   "outputs": [
    {
     "data": {
      "image/png": "[encoded data removed]",
      "text/plain": [
       "<Figure size 2500x3000 with 25 Axes>"
      ]
     },
     "metadata": {},
     "output_type": "display_data"
    }
   ],
   "source": [
    "df.hist(figsize=(25,30));"
   ]
  },
  {
   "cell_type": "code",
   "execution_count": 12,
   "id": "0492fc26",
   "metadata": {
    "execution": {
     "iopub.execute_input": "2024-04-21T06:50:05.425598Z",
     "iopub.status.busy": "2024-04-21T06:50:05.425202Z",
     "iopub.status.idle": "2024-04-21T06:50:10.144440Z",
     "shell.execute_reply": "2024-04-21T06:50:10.143572Z"
    },
    "papermill": {
     "duration": 4.734764,
     "end_time": "2024-04-21T06:50:10.147021",
     "exception": false,
     "start_time": "2024-04-21T06:50:05.412257",
     "status": "completed"
    },
    "tags": []
   },
   "outputs": [
    {
     "data": {
      "image/png": "[encoded data removed]",
      "text/plain": [
       "<Figure size 2500x3000 with 25 Axes>"
      ]
     },
     "metadata": {},
     "output_type": "display_data"
    }
   ],
   "source": [
    "df.describe().hist(figsize=(25,30));"
   ]
  },
  {
   "cell_type": "markdown",
   "id": "b6814c06",
   "metadata": {
    "papermill": {
     "duration": 0.014188,
     "end_time": "2024-04-21T06:50:10.178107",
     "exception": false,
     "start_time": "2024-04-21T06:50:10.163919",
     "status": "completed"
    },
    "tags": []
   },
   "source": [
    "## Scaling data (normalization)"
   ]
  },
  {
   "cell_type": "code",
   "execution_count": 13,
   "id": "76778290",
   "metadata": {
    "execution": {
     "iopub.execute_input": "2024-04-21T06:50:10.206264Z",
     "iopub.status.busy": "2024-04-21T06:50:10.205364Z",
     "iopub.status.idle": "2024-04-21T06:50:10.209877Z",
     "shell.execute_reply": "2024-04-21T06:50:10.208816Z"
    },
    "papermill": {
     "duration": 0.020533,
     "end_time": "2024-04-21T06:50:10.211649",
     "exception": false,
     "start_time": "2024-04-21T06:50:10.191116",
     "status": "completed"
    },
    "tags": []
   },
   "outputs": [],
   "source": [
    "scaler = StandardScaler()"
   ]
  },
  {
   "cell_type": "code",
   "execution_count": 19,
   "id": "955c4b8e",
   "metadata": {},
   "outputs": [],
   "source": [
    "df=df.drop(['language'],axis=1)"
   ]
  },
  {
   "cell_type": "code",
   "execution_count": 20,
   "id": "fb902ade",
   "metadata": {
    "execution": {
     "iopub.execute_input": "2024-04-21T06:50:10.241976Z",
     "iopub.status.busy": "2024-04-21T06:50:10.241543Z",
     "iopub.status.idle": "2024-04-21T06:50:10.248075Z",
     "shell.execute_reply": "2024-04-21T06:50:10.247202Z"
    },
    "papermill": {
     "duration": 0.023224,
     "end_time": "2024-04-21T06:50:10.250044",
     "exception": false,
     "start_time": "2024-04-21T06:50:10.226820",
     "status": "completed"
    },
    "tags": []
   },
   "outputs": [],
   "source": [
    "x = df.drop(['status'],axis=1)"
   ]
  },
  {
   "cell_type": "code",
   "execution_count": 21,
   "id": "3e64b566",
   "metadata": {
    "execution": {
     "iopub.execute_input": "2024-04-21T06:50:10.279025Z",
     "iopub.status.busy": "2024-04-21T06:50:10.278631Z",
     "iopub.status.idle": "2024-04-21T06:50:10.284313Z",
     "shell.execute_reply": "2024-04-21T06:50:10.282836Z"
    },
    "papermill": {
     "duration": 0.023481,
     "end_time": "2024-04-21T06:50:10.286775",
     "exception": false,
     "start_time": "2024-04-21T06:50:10.263294",
     "status": "completed"
    },
    "tags": []
   },
   "outputs": [],
   "source": [
    "y = df['status']"
   ]
  },
  {
   "cell_type": "markdown",
   "id": "981b4653",
   "metadata": {
    "papermill": {
     "duration": 0.013182,
     "end_time": "2024-04-21T06:50:10.313403",
     "exception": false,
     "start_time": "2024-04-21T06:50:10.300221",
     "status": "completed"
    },
    "tags": []
   },
   "source": [
    "## Correlation matrix "
   ]
  },
  {
   "cell_type": "code",
   "execution_count": 22,
   "id": "a18a44fd",
   "metadata": {
    "execution": {
     "iopub.execute_input": "2024-04-21T06:50:10.342702Z",
     "iopub.status.busy": "2024-04-21T06:50:10.342204Z",
     "iopub.status.idle": "2024-04-21T06:50:12.348566Z",
     "shell.execute_reply": "2024-04-21T06:50:12.346940Z"
    },
    "papermill": {
     "duration": 2.023922,
     "end_time": "2024-04-21T06:50:12.350958",
     "exception": false,
     "start_time": "2024-04-21T06:50:10.327036",
     "status": "completed"
    },
    "tags": []
   },
   "outputs": [
    {
     "data": {
      "application/vnd.plotly.v1+json": {
       "config": {
        "plotlyServerURL": "https://plot.ly"
       },
       "data": [
        {
         "coloraxis": "coloraxis",
         "hovertemplate": "x: %{x}<br>y: %{y}<br>color: %{z}<extra></extra>",
         "name": "0",
         "type": "heatmap",
         "x": [
          "MDVP:Fo(Hz)",
          "MDVP:Fhi(Hz)",
          "MDVP:Flo(Hz)",
          "MDVP:Jitter(%)",
          "MDVP:Jitter(Abs)",
          "MDVP:RAP",
          "MDVP:PPQ",
          "Jitter:DDP",
          "MDVP:Shimmer",
          "MDVP:Shimmer (dB)",
          "Shimmer:APQ3",
          "Shimmer:APQ5",
          "MDVP:APQ",
          "Shimmer:DDA",
          "NHR",
          "HNR",
          "RPDE",
          "spread1",
          "spread2",
          "D2",
          "PPE"
         ],
         "xaxis": "x",
         "y": [
          "MDVP:Fo(Hz)",
          "MDVP:Fhi(Hz)",
          "MDVP:Flo(Hz)",
          "MDVP:Jitter(%)",
          "MDVP:Jitter(Abs)",
          "MDVP:RAP",
          "MDVP:PPQ",
          "Jitter:DDP",
          "MDVP:Shimmer",
          "MDVP:Shimmer (dB)",
          "Shimmer:APQ3",
          "Shimmer:APQ5",
          "MDVP:APQ",
          "Shimmer:DDA",
          "NHR",
          "HNR",
          "RPDE",
          "spread1",
          "spread2",
          "D2",
          "PPE"
         ],
         "yaxis": "y",
         "z": [
          [
           1,
           0.46323960494572347,
           0.6016541173791646,
           -0.010413950226524256,
           0.08525001127878148,
           0.08521931356081859,
           0.07873172713115179,
           0.058591495878303236,
           0.02157034580105555,
           0.06983608538579458,
           0.033555721258550844,
           0.15316608263019135,
           -0.0679460785626034,
           0.055596234201415386,
           -0.02156219939584017,
           -0.042110158021573856,
           -0.09347128838425471,
           0.12413348148547654,
           0.09413863368134427,
           -0.05451391559436753,
           -0.15475813876125366
          ],
          [
           0.46323960494572347,
           1,
           0.006326326076393777,
           0.601921717313216,
           0.4971425826321334,
           0.49721251647831166,
           0.505783760143788,
           0.006587222072844896,
           -0.04962779545743382,
           -0.08944569971822672,
           -0.044023885041521035,
           0.0011101794287974025,
           -0.06951401271773248,
           -0.1391815627982894,
           -0.023687492888134445,
           -0.091486281164399,
           -0.09852672621160204,
           0.3619841274511905,
           0.4060780868879597,
           -0.07355473166945402,
           -0.06981328645675029
          ],
          [
           0.6016541173791646,
           0.006326326076393777,
           1,
           -0.43500888812338206,
           -0.3163053220588287,
           -0.3164049040384253,
           -0.31403577484170564,
           0.046563703115870096,
           0.01638140054847132,
           0.09467490511341732,
           0.02193605130241688,
           0.12300271790596756,
           -0.05583664355599809,
           0.1318057983950122,
           -0.02234507056784176,
           0.00061938316886825,
           -0.06816040137093071,
           -0.24619024370268294,
           -0.2894578252116751,
           -0.03505130332560814,
           -0.13815049337300395
          ],
          [
           -0.010413950226524256,
           0.601921717313216,
           -0.43500888812338206,
           1,
           0.7317966516154106,
           0.7317571740351025,
           0.741644581064172,
           -0.27365258107405005,
           -0.3261133824269387,
           -0.4371018997089508,
           -0.31753029860199955,
           -0.27082243592677024,
           -0.2961921255029965,
           -0.42020927114116824,
           0.02270412050328714,
           -0.3702242980142926,
           -0.3638063831707527,
           0.6181621243050551,
           0.6909806908503062,
           -0.35604656431633575,
           -0.29133936519698717
          ],
          [
           0.08525001127878148,
           0.4971425826321334,
           -0.3163053220588287,
           0.7317966516154106,
           1,
           0.9999998008326797,
           0.986766914721805,
           -0.3252375191457057,
           -0.3683138529460594,
           -0.5443837977515557,
           -0.3629751346938267,
           -0.33244877554542746,
           -0.31456917611880797,
           -0.49266817828018555,
           0.09333445797350794,
           -0.39540105771345146,
           -0.38550877566457936,
           0.6201211689358999,
           0.6211949171601329,
           -0.3590937225426696,
           -0.29945635096630774
          ],
          [
           0.08521931356081859,
           0.49721251647831166,
           -0.3164049040384253,
           0.7317571740351025,
           0.9999998008326797,
           1,
           0.9867714754785984,
           -0.3247108457527244,
           -0.36782877373126904,
           -0.5440622954081198,
           -0.362502993419277,
           -0.3321185463444652,
           -0.31405288320294167,
           -0.49225100544456346,
           0.09334056493344395,
           -0.39508667231101524,
           -0.38508738507616685,
           0.6200524692813829,
           0.6211582833147918,
           -0.35867570183296865,
           -0.2989571925792718
          ],
          [
           0.07873172713115179,
           0.505783760143788,
           -0.31403577484170564,
           0.741644581064172,
           0.986766914721805,
           0.9867714754785984,
           1,
           -0.31111111165771277,
           -0.3552408088679853,
           -0.5330711954457817,
           -0.34794628890138424,
           -0.31762946511818446,
           -0.3023442156745828,
           -0.47946325448320987,
           0.08815620561190228,
           -0.3807734201575791,
           -0.3707957812102088,
           0.5981573869720533,
           0.6102537631593448,
           -0.34504964476400796,
           -0.28677664972554145
          ],
          [
           0.058591495878303236,
           0.006587222072844896,
           0.046563703115870096,
           -0.27365258107405005,
           -0.3252375191457057,
           -0.3247108457527244,
           -0.31111111165771277,
           1,
           0.8666236856325568,
           0.6416064944757203,
           0.877334266938916,
           0.8345176951314689,
           0.7666517821691496,
           0.8133265060404835,
           -0.027589190876637436,
           0.4652191155009697,
           0.6193725158222998,
           -0.27616908063294415,
           -0.24133146613034812,
           0.6067734475201961,
           0.698959235723721
          ],
          [
           0.02157034580105555,
           -0.04962779545743382,
           0.01638140054847132,
           -0.3261133824269387,
           -0.3683138529460594,
           -0.36782877373126904,
           -0.3552408088679853,
           0.8666236856325568,
           1,
           0.7658160069140832,
           0.9861020576657945,
           0.8661891460160579,
           0.9340046655052404,
           0.9267474680559825,
           -0.029580496536028542,
           0.6261735541330653,
           0.7845138660561901,
           -0.3369099237578053,
           -0.287144101776898,
           0.7665255269892169,
           0.8256217365602566
          ],
          [
           0.06983608538579458,
           -0.08944569971822672,
           0.09467490511341732,
           -0.4371018997089508,
           -0.5443837977515557,
           -0.5440622954081198,
           -0.5330711954457817,
           0.6416064944757203,
           0.7658160069140832,
           1,
           0.747722836100778,
           0.6268804126659328,
           0.7144358604539475,
           0.7033375128855854,
           -0.10178289333184132,
           0.8792903060221173,
           0.8738965121760175,
           -0.42564130238382375,
           -0.3680137740565502,
           0.8669073698763373,
           0.7709781410235854
          ],
          [
           0.033555721258550844,
           -0.044023885041521035,
           0.02193605130241688,
           -0.31753029860199955,
           -0.3629751346938267,
           -0.362502993419277,
           -0.34794628890138424,
           0.877334266938916,
           0.9861020576657945,
           0.747722836100778,
           1,
           0.8952837956285049,
           0.896617667781116,
           0.928295161968866,
           -0.028556623359185348,
           0.6068306666596093,
           0.7616339487940265,
           -0.3235597188347775,
           -0.2750277404602204,
           0.7397861331004482,
           0.7934156531046157
          ],
          [
           0.15316608263019135,
           0.0011101794287974025,
           0.12300271790596756,
           -0.27082243592677024,
           -0.33244877554542746,
           -0.3321185463444652,
           -0.31762946511818446,
           0.8345176951314689,
           0.8661891460160579,
           0.6268804126659328,
           0.8952837956285049,
           1,
           0.6889401102434352,
           0.8059688159867158,
           -0.03244673699503647,
           0.4030282956140828,
           0.527139486057932,
           -0.26249330191017467,
           -0.23307167737526738,
           0.5121251928734898,
           0.5722312670533233
          ],
          [
           -0.0679460785626034,
           -0.06951401271773248,
           -0.05583664355599809,
           -0.2961921255029965,
           -0.31456917611880797,
           -0.31405288320294167,
           -0.3023442156745828,
           0.7666517821691496,
           0.9340046655052404,
           0.7144358604539475,
           0.896617667781116,
           0.6889401102434352,
           1,
           0.8407136045123316,
           -0.01908866450864755,
           0.6698600179182141,
           0.8325450613449565,
           -0.3130310419745468,
           -0.25698884947778095,
           0.8159670359588366,
           0.8889234892727597
          ],
          [
           0.055596234201415386,
           -0.1391815627982894,
           0.1318057983950122,
           -0.42020927114116824,
           -0.49266817828018555,
           -0.49225100544456346,
           -0.47946325448320987,
           0.8133265060404835,
           0.9267474680559825,
           0.7033375128855854,
           0.928295161968866,
           0.8059688159867158,
           0.8407136045123316,
           1,
           -0.018436710427999287,
           0.5017974978325619,
           0.6676961331777276,
           -0.36976382972543537,
           -0.3457804187978888,
           0.6557497801926602,
           0.7049387636288504
          ],
          [
           -0.02156219939584017,
           -0.023687492888134445,
           -0.02234507056784176,
           0.02270412050328714,
           0.09333445797350794,
           0.09334056493344395,
           0.08815620561190228,
           -0.027589190876637436,
           -0.029580496536028542,
           -0.10178289333184132,
           -0.028556623359185348,
           -0.03244673699503647,
           -0.01908866450864755,
           -0.018436710427999287,
           1,
           -0.025308849582827697,
           -0.02328530955970885,
           0.008578161125275123,
           0.004278851860102014,
           -0.02668570114463144,
           -0.022003249921717205
          ],
          [
           -0.042110158021573856,
           -0.091486281164399,
           0.00061938316886825,
           -0.3702242980142926,
           -0.39540105771345146,
           -0.39508667231101524,
           -0.3807734201575791,
           0.4652191155009697,
           0.6261735541330653,
           0.8792903060221173,
           0.6068306666596093,
           0.4030282956140828,
           0.6698600179182141,
           0.5017974978325619,
           -0.025308849582827697,
           1,
           0.9223672039432645,
           -0.40449527945635294,
           -0.321407727119442,
           0.9122196616005812,
           0.7978008232574152
          ],
          [
           -0.09347128838425471,
           -0.09852672621160204,
           -0.06816040137093071,
           -0.3638063831707527,
           -0.38550877566457936,
           -0.38508738507616685,
           -0.3707957812102088,
           0.6193725158222998,
           0.7845138660561901,
           0.8738965121760175,
           0.7616339487940265,
           0.527139486057932,
           0.8325450613449565,
           0.6676961331777276,
           -0.02328530955970885,
           0.9223672039432645,
           1,
           -0.3923409176910308,
           -0.31532242237110475,
           0.9423765611395409,
           0.9150594562545233
          ],
          [
           0.12413348148547654,
           0.3619841274511905,
           -0.24619024370268294,
           0.6181621243050551,
           0.6201211689358999,
           0.6200524692813829,
           0.5981573869720533,
           -0.27616908063294415,
           -0.3369099237578053,
           -0.42564130238382375,
           -0.3235597188347775,
           -0.26249330191017467,
           -0.3130310419745468,
           -0.36976382972543537,
           0.008578161125275123,
           -0.40449527945635294,
           -0.3923409176910308,
           1,
           0.7432955279434051,
           -0.377944140141995,
           -0.3205260554539336
          ],
          [
           0.09413863368134427,
           0.4060780868879597,
           -0.2894578252116751,
           0.6909806908503062,
           0.6211949171601329,
           0.6211582833147918,
           0.6102537631593448,
           -0.24133146613034812,
           -0.287144101776898,
           -0.3680137740565502,
           -0.2750277404602204,
           -0.23307167737526738,
           -0.25698884947778095,
           -0.3457804187978888,
           0.004278851860102014,
           -0.321407727119442,
           -0.31532242237110475,
           0.7432955279434051,
           1,
           -0.2997038567843529,
           -0.24866876220709733
          ],
          [
           -0.05451391559436753,
           -0.07355473166945402,
           -0.03505130332560814,
           -0.35604656431633575,
           -0.3590937225426696,
           -0.35867570183296865,
           -0.34504964476400796,
           0.6067734475201961,
           0.7665255269892169,
           0.8669073698763373,
           0.7397861331004482,
           0.5121251928734898,
           0.8159670359588366,
           0.6557497801926602,
           -0.02668570114463144,
           0.9122196616005812,
           0.9423765611395409,
           -0.377944140141995,
           -0.2997038567843529,
           1,
           0.8839186059851099
          ],
          [
           -0.15475813876125366,
           -0.06981328645675029,
           -0.13815049337300395,
           -0.29133936519698717,
           -0.29945635096630774,
           -0.2989571925792718,
           -0.28677664972554145,
           0.698959235723721,
           0.8256217365602566,
           0.7709781410235854,
           0.7934156531046157,
           0.5722312670533233,
           0.8889234892727597,
           0.7049387636288504,
           -0.022003249921717205,
           0.7978008232574152,
           0.9150594562545233,
           -0.3205260554539336,
           -0.24866876220709733,
           0.8839186059851099,
           1
          ]
         ]
        }
       ],
       "layout": {
        "coloraxis": {
         "colorscale": [
          [
           0,
           "#0d0887"
          ],
          [
           0.1111111111111111,
           "#46039f"
          ],
          [
           0.2222222222222222,
           "#7201a8"
          ],
          [
           0.3333333333333333,
           "#9c179e"
          ],
          [
           0.4444444444444444,
           "#bd3786"
          ],
          [
           0.5555555555555556,
           "#d8576b"
          ],
          [
           0.6666666666666666,
           "#ed7953"
          ],
          [
           0.7777777777777778,
           "#fb9f3a"
          ],
          [
           0.8888888888888888,
           "#fdca26"
          ],
          [
           1,
           "#f0f921"
          ]
         ]
        },
        "margin": {
         "t": 60
        },
        "template": {
         "data": {
          "bar": [
           {
            "error_x": {
             "color": "#2a3f5f"
            },
            "error_y": {
             "color": "#2a3f5f"
            },
            "marker": {
             "line": {
              "color": "#E5ECF6",
              "width": 0.5
             },
             "pattern": {
              "fillmode": "overlay",
              "size": 10,
              "solidity": 0.2
             }
            },
            "type": "bar"
           }
          ],
          "barpolar": [
           {
            "marker": {
             "line": {
              "color": "#E5ECF6",
              "width": 0.5
             },
             "pattern": {
              "fillmode": "overlay",
              "size": 10,
              "solidity": 0.2
             }
            },
            "type": "barpolar"
           }
          ],
          "carpet": [
           {
            "aaxis": {
             "endlinecolor": "#2a3f5f",
             "gridcolor": "white",
             "linecolor": "white",
             "minorgridcolor": "white",
             "startlinecolor": "#2a3f5f"
            },
            "baxis": {
             "endlinecolor": "#2a3f5f",
             "gridcolor": "white",
             "linecolor": "white",
             "minorgridcolor": "white",
             "startlinecolor": "#2a3f5f"
            },
            "type": "carpet"
           }
          ],
          "choropleth": [
           {
            "colorbar": {
             "outlinewidth": 0,
             "ticks": ""
            },
            "type": "choropleth"
           }
          ],
          "contour": [
           {
            "colorbar": {
             "outlinewidth": 0,
             "ticks": ""
            },
            "colorscale": [
             [
              0,
              "#0d0887"
             ],
             [
              0.1111111111111111,
              "#46039f"
             ],
             [
              0.2222222222222222,
              "#7201a8"
             ],
             [
              0.3333333333333333,
              "#9c179e"
             ],
             [
              0.4444444444444444,
              "#bd3786"
             ],
             [
              0.5555555555555556,
              "#d8576b"
             ],
             [
              0.6666666666666666,
              "#ed7953"
             ],
             [
              0.7777777777777778,
              "#fb9f3a"
             ],
             [
              0.8888888888888888,
              "#fdca26"
             ],
             [
              1,
              "#f0f921"
             ]
            ],
            "type": "contour"
           }
          ],
          "contourcarpet": [
           {
            "colorbar": {
             "outlinewidth": 0,
             "ticks": ""
            },
            "type": "contourcarpet"
           }
          ],
          "heatmap": [
           {
            "colorbar": {
             "outlinewidth": 0,
             "ticks": ""
            },
            "colorscale": [
             [
              0,
              "#0d0887"
             ],
             [
              0.1111111111111111,
              "#46039f"
             ],
             [
              0.2222222222222222,
              "#7201a8"
             ],
             [
              0.3333333333333333,
              "#9c179e"
             ],
             [
              0.4444444444444444,
              "#bd3786"
             ],
             [
              0.5555555555555556,
              "#d8576b"
             ],
             [
              0.6666666666666666,
              "#ed7953"
             ],
             [
              0.7777777777777778,
              "#fb9f3a"
             ],
             [
              0.8888888888888888,
              "#fdca26"
             ],
             [
              1,
              "#f0f921"
             ]
            ],
            "type": "heatmap"
           }
          ],
          "heatmapgl": [
           {
            "colorbar": {
             "outlinewidth": 0,
             "ticks": ""
            },
            "colorscale": [
             [
              0,
              "#0d0887"
             ],
             [
              0.1111111111111111,
              "#46039f"
             ],
             [
              0.2222222222222222,
              "#7201a8"
             ],
             [
              0.3333333333333333,
              "#9c179e"
             ],
             [
              0.4444444444444444,
              "#bd3786"
             ],
             [
              0.5555555555555556,
              "#d8576b"
             ],
             [
              0.6666666666666666,
              "#ed7953"
             ],
             [
              0.7777777777777778,
              "#fb9f3a"
             ],
             [
              0.8888888888888888,
              "#fdca26"
             ],
             [
              1,
              "#f0f921"
             ]
            ],
            "type": "heatmapgl"
           }
          ],
          "histogram": [
           {
            "marker": {
             "pattern": {
              "fillmode": "overlay",
              "size": 10,
              "solidity": 0.2
             }
            },
            "type": "histogram"
           }
          ],
          "histogram2d": [
           {
            "colorbar": {
             "outlinewidth": 0,
             "ticks": ""
            },
            "colorscale": [
             [
              0,
              "#0d0887"
             ],
             [
              0.1111111111111111,
              "#46039f"
             ],
             [
              0.2222222222222222,
              "#7201a8"
             ],
             [
              0.3333333333333333,
              "#9c179e"
             ],
             [
              0.4444444444444444,
              "#bd3786"
             ],
             [
              0.5555555555555556,
              "#d8576b"
             ],
             [
              0.6666666666666666,
              "#ed7953"
             ],
             [
              0.7777777777777778,
              "#fb9f3a"
             ],
             [
              0.8888888888888888,
              "#fdca26"
             ],
             [
              1,
              "#f0f921"
             ]
            ],
            "type": "histogram2d"
           }
          ],
          "histogram2dcontour": [
           {
            "colorbar": {
             "outlinewidth": 0,
             "ticks": ""
            },
            "colorscale": [
             [
              0,
              "#0d0887"
             ],
             [
              0.1111111111111111,
              "#46039f"
             ],
             [
              0.2222222222222222,
              "#7201a8"
             ],
             [
              0.3333333333333333,
              "#9c179e"
             ],
             [
              0.4444444444444444,
              "#bd3786"
             ],
             [
              0.5555555555555556,
              "#d8576b"
             ],
             [
              0.6666666666666666,
              "#ed7953"
             ],
             [
              0.7777777777777778,
              "#fb9f3a"
             ],
             [
              0.8888888888888888,
              "#fdca26"
             ],
             [
              1,
              "#f0f921"
             ]
            ],
            "type": "histogram2dcontour"
           }
          ],
          "mesh3d": [
           {
            "colorbar": {
             "outlinewidth": 0,
             "ticks": ""
            },
            "type": "mesh3d"
           }
          ],
          "parcoords": [
           {
            "line": {
             "colorbar": {
              "outlinewidth": 0,
              "ticks": ""
             }
            },
            "type": "parcoords"
           }
          ],
          "pie": [
           {
            "automargin": true,
            "type": "pie"
           }
          ],
          "scatter": [
           {
            "fillpattern": {
             "fillmode": "overlay",
             "size": 10,
             "solidity": 0.2
            },
            "type": "scatter"
           }
          ],
          "scatter3d": [
           {
            "line": {
             "colorbar": {
              "outlinewidth": 0,
              "ticks": ""
             }
            },
            "marker": {
             "colorbar": {
              "outlinewidth": 0,
              "ticks": ""
             }
            },
            "type": "scatter3d"
           }
          ],
          "scattercarpet": [
           {
            "marker": {
             "colorbar": {
              "outlinewidth": 0,
              "ticks": ""
             }
            },
            "type": "scattercarpet"
           }
          ],
          "scattergeo": [
           {
            "marker": {
             "colorbar": {
              "outlinewidth": 0,
              "ticks": ""
             }
            },
            "type": "scattergeo"
           }
          ],
          "scattergl": [
           {
            "marker": {
             "colorbar": {
              "outlinewidth": 0,
              "ticks": ""
             }
            },
            "type": "scattergl"
           }
          ],
          "scattermapbox": [
           {
            "marker": {
             "colorbar": {
              "outlinewidth": 0,
              "ticks": ""
             }
            },
            "type": "scattermapbox"
           }
          ],
          "scatterpolar": [
           {
            "marker": {
             "colorbar": {
              "outlinewidth": 0,
              "ticks": ""
             }
            },
            "type": "scatterpolar"
           }
          ],
          "scatterpolargl": [
           {
            "marker": {
             "colorbar": {
              "outlinewidth": 0,
              "ticks": ""
             }
            },
            "type": "scatterpolargl"
           }
          ],
          "scatterternary": [
           {
            "marker": {
             "colorbar": {
              "outlinewidth": 0,
              "ticks": ""
             }
            },
            "type": "scatterternary"
           }
          ],
          "surface": [
           {
            "colorbar": {
             "outlinewidth": 0,
             "ticks": ""
            },
            "colorscale": [
             [
              0,
              "#0d0887"
             ],
             [
              0.1111111111111111,
              "#46039f"
             ],
             [
              0.2222222222222222,
              "#7201a8"
             ],
             [
              0.3333333333333333,
              "#9c179e"
             ],
             [
              0.4444444444444444,
              "#bd3786"
             ],
             [
              0.5555555555555556,
              "#d8576b"
             ],
             [
              0.6666666666666666,
              "#ed7953"
             ],
             [
              0.7777777777777778,
              "#fb9f3a"
             ],
             [
              0.8888888888888888,
              "#fdca26"
             ],
             [
              1,
              "#f0f921"
             ]
            ],
            "type": "surface"
           }
          ],
          "table": [
           {
            "cells": {
             "fill": {
              "color": "#EBF0F8"
             },
             "line": {
              "color": "white"
             }
            },
            "header": {
             "fill": {
              "color": "#C8D4E3"
             },
             "line": {
              "color": "white"
             }
            },
            "type": "table"
           }
          ]
         },
         "layout": {
          "annotationdefaults": {
           "arrowcolor": "#2a3f5f",
           "arrowhead": 0,
           "arrowwidth": 1
          },
          "autotypenumbers": "strict",
          "coloraxis": {
           "colorbar": {
            "outlinewidth": 0,
            "ticks": ""
           }
          },
          "colorscale": {
           "diverging": [
            [
             0,
             "#8e0152"
            ],
            [
             0.1,
             "#c51b7d"
            ],
            [
             0.2,
             "#de77ae"
            ],
            [
             0.3,
             "#f1b6da"
            ],
            [
             0.4,
             "#fde0ef"
            ],
            [
             0.5,
             "#f7f7f7"
            ],
            [
             0.6,
             "#e6f5d0"
            ],
            [
             0.7,
             "#b8e186"
            ],
            [
             0.8,
             "#7fbc41"
            ],
            [
             0.9,
             "#4d9221"
            ],
            [
             1,
             "#276419"
            ]
           ],
           "sequential": [
            [
             0,
             "#0d0887"
            ],
            [
             0.1111111111111111,
             "#46039f"
            ],
            [
             0.2222222222222222,
             "#7201a8"
            ],
            [
             0.3333333333333333,
             "#9c179e"
            ],
            [
             0.4444444444444444,
             "#bd3786"
            ],
            [
             0.5555555555555556,
             "#d8576b"
            ],
            [
             0.6666666666666666,
             "#ed7953"
            ],
            [
             0.7777777777777778,
             "#fb9f3a"
            ],
            [
             0.8888888888888888,
             "#fdca26"
            ],
            [
             1,
             "#f0f921"
            ]
           ],
           "sequentialminus": [
            [
             0,
             "#0d0887"
            ],
            [
             0.1111111111111111,
             "#46039f"
            ],
            [
             0.2222222222222222,
             "#7201a8"
            ],
            [
             0.3333333333333333,
             "#9c179e"
            ],
            [
             0.4444444444444444,
             "#bd3786"
            ],
            [
             0.5555555555555556,
             "#d8576b"
            ],
            [
             0.6666666666666666,
             "#ed7953"
            ],
            [
             0.7777777777777778,
             "#fb9f3a"
            ],
            [
             0.8888888888888888,
             "#fdca26"
            ],
            [
             1,
             "#f0f921"
            ]
           ]
          },
          "colorway": [
           "#636efa",
           "#EF553B",
           "#00cc96",
           "#ab63fa",
           "#FFA15A",
           "#19d3f3",
           "#FF6692",
           "#B6E880",
           "#FF97FF",
           "#FECB52"
          ],
          "font": {
           "color": "#2a3f5f"
          },
          "geo": {
           "bgcolor": "white",
           "lakecolor": "white",
           "landcolor": "#E5ECF6",
           "showlakes": true,
           "showland": true,
           "subunitcolor": "white"
          },
          "hoverlabel": {
           "align": "left"
          },
          "hovermode": "closest",
          "mapbox": {
           "style": "light"
          },
          "paper_bgcolor": "white",
          "plot_bgcolor": "#E5ECF6",
          "polar": {
           "angularaxis": {
            "gridcolor": "white",
            "linecolor": "white",
            "ticks": ""
           },
           "bgcolor": "#E5ECF6",
           "radialaxis": {
            "gridcolor": "white",
            "linecolor": "white",
            "ticks": ""
           }
          },
          "scene": {
           "xaxis": {
            "backgroundcolor": "#E5ECF6",
            "gridcolor": "white",
            "gridwidth": 2,
            "linecolor": "white",
            "showbackground": true,
            "ticks": "",
            "zerolinecolor": "white"
           },
           "yaxis": {
            "backgroundcolor": "#E5ECF6",
            "gridcolor": "white",
            "gridwidth": 2,
            "linecolor": "white",
            "showbackground": true,
            "ticks": "",
            "zerolinecolor": "white"
           },
           "zaxis": {
            "backgroundcolor": "#E5ECF6",
            "gridcolor": "white",
            "gridwidth": 2,
            "linecolor": "white",
            "showbackground": true,
            "ticks": "",
            "zerolinecolor": "white"
           }
          },
          "shapedefaults": {
           "line": {
            "color": "#2a3f5f"
           }
          },
          "ternary": {
           "aaxis": {
            "gridcolor": "white",
            "linecolor": "white",
            "ticks": ""
           },
           "baxis": {
            "gridcolor": "white",
            "linecolor": "white",
            "ticks": ""
           },
           "bgcolor": "#E5ECF6",
           "caxis": {
            "gridcolor": "white",
            "linecolor": "white",
            "ticks": ""
           }
          },
          "title": {
           "x": 0.05
          },
          "xaxis": {
           "automargin": true,
           "gridcolor": "white",
           "linecolor": "white",
           "ticks": "",
           "title": {
            "standoff": 15
           },
           "zerolinecolor": "white",
           "zerolinewidth": 2
          },
          "yaxis": {
           "automargin": true,
           "gridcolor": "white",
           "linecolor": "white",
           "ticks": "",
           "title": {
            "standoff": 15
           },
           "zerolinecolor": "white",
           "zerolinewidth": 2
          }
         }
        },
        "xaxis": {
         "anchor": "y",
         "constrain": "domain",
         "domain": [
          0,
          1
         ],
         "scaleanchor": "y"
        },
        "yaxis": {
         "anchor": "x",
         "autorange": "reversed",
         "constrain": "domain",
         "domain": [
          0,
          1
         ]
        }
       }
      }
     },
     "metadata": {},
     "output_type": "display_data"
    }
   ],
   "source": [
    "# sns.heatmap(df.drop('status',axis=1).corr(),annot=True,cmap='OrRd')\n",
    "px.imshow(df.drop('status',axis=1).corr())"
   ]
  },
  {
   "cell_type": "code",
   "execution_count": 23,
   "id": "a12316f0",
   "metadata": {
    "execution": {
     "iopub.execute_input": "2024-04-21T06:50:12.379454Z",
     "iopub.status.busy": "2024-04-21T06:50:12.379054Z",
     "iopub.status.idle": "2024-04-21T06:50:12.387019Z",
     "shell.execute_reply": "2024-04-21T06:50:12.385987Z"
    },
    "papermill": {
     "duration": 0.025099,
     "end_time": "2024-04-21T06:50:12.389759",
     "exception": false,
     "start_time": "2024-04-21T06:50:12.364660",
     "status": "completed"
    },
    "tags": []
   },
   "outputs": [],
   "source": [
    "X_train,X_test,y_train,y_test=train_test_split(x,y,shuffle=True)"
   ]
  },
  {
   "cell_type": "code",
   "execution_count": 24,
   "id": "d43aff70",
   "metadata": {
    "execution": {
     "iopub.execute_input": "2024-04-21T06:50:12.488729Z",
     "iopub.status.busy": "2024-04-21T06:50:12.488329Z",
     "iopub.status.idle": "2024-04-21T06:50:12.499594Z",
     "shell.execute_reply": "2024-04-21T06:50:12.498086Z"
    },
    "papermill": {
     "duration": 0.098183,
     "end_time": "2024-04-21T06:50:12.501898",
     "exception": false,
     "start_time": "2024-04-21T06:50:12.403715",
     "status": "completed"
    },
    "tags": []
   },
   "outputs": [],
   "source": [
    "scaler.fit(X_train)\n",
    "X_train = scaler.transform(X_train)\n",
    "X_test = scaler.transform(X_test)"
   ]
  },
  {
   "cell_type": "markdown",
   "id": "8cd7bfc8",
   "metadata": {
    "papermill": {
     "duration": 0.01582,
     "end_time": "2024-04-21T06:50:12.531398",
     "exception": false,
     "start_time": "2024-04-21T06:50:12.515578",
     "status": "completed"
    },
    "tags": []
   },
   "source": [
    "## Support vector machine classifier"
   ]
  },
  {
   "cell_type": "code",
   "execution_count": 25,
   "id": "4b5f43af",
   "metadata": {
    "execution": {
     "iopub.execute_input": "2024-04-21T06:50:12.569878Z",
     "iopub.status.busy": "2024-04-21T06:50:12.569378Z",
     "iopub.status.idle": "2024-04-21T06:50:12.575269Z",
     "shell.execute_reply": "2024-04-21T06:50:12.573926Z"
    },
    "papermill": {
     "duration": 0.029019,
     "end_time": "2024-04-21T06:50:12.579701",
     "exception": false,
     "start_time": "2024-04-21T06:50:12.550682",
     "status": "completed"
    },
    "tags": []
   },
   "outputs": [],
   "source": [
    "model1 = svm.SVC(kernel='rbf', gamma=1, C=10)"
   ]
  },
  {
   "cell_type": "code",
   "execution_count": 35,
   "id": "77cb99e9",
   "metadata": {},
   "outputs": [
    {
     "data": {
      "text/html": [
       "<style>#sk-container-id-3 {\n",
       "  /* Definition of color scheme common for light and dark mode */\n",
       "  --sklearn-color-text: black;\n",
       "  --sklearn-color-line: gray;\n",
       "  /* Definition of color scheme for unfitted estimators */\n",
       "  --sklearn-color-unfitted-level-0: #fff5e6;\n",
       "  --sklearn-color-unfitted-level-1: #f6e4d2;\n",
       "  --sklearn-color-unfitted-level-2: #ffe0b3;\n",
       "  --sklearn-color-unfitted-level-3: chocolate;\n",
       "  /* Definition of color scheme for fitted estimators */\n",
       "  --sklearn-color-fitted-level-0: #f0f8ff;\n",
       "  --sklearn-color-fitted-level-1: #d4ebff;\n",
       "  --sklearn-color-fitted-level-2: #b3dbfd;\n",
       "  --sklearn-color-fitted-level-3: cornflowerblue;\n",
       "\n",
       "  /* Specific color for light theme */\n",
       "  --sklearn-color-text-on-default-background: var(--sg-text-color, var(--theme-code-foreground, var(--jp-content-font-color1, black)));\n",
       "  --sklearn-color-background: var(--sg-background-color, var(--theme-background, var(--jp-layout-color0, white)));\n",
       "  --sklearn-color-border-box: var(--sg-text-color, var(--theme-code-foreground, var(--jp-content-font-color1, black)));\n",
       "  --sklearn-color-icon: #696969;\n",
       "\n",
       "  @media (prefers-color-scheme: dark) {\n",
       "    /* Redefinition of color scheme for dark theme */\n",
       "    --sklearn-color-text-on-default-background: var(--sg-text-color, var(--theme-code-foreground, var(--jp-content-font-color1, white)));\n",
       "    --sklearn-color-background: var(--sg-background-color, var(--theme-background, var(--jp-layout-color0, #111)));\n",
       "    --sklearn-color-border-box: var(--sg-text-color, var(--theme-code-foreground, var(--jp-content-font-color1, white)));\n",
       "    --sklearn-color-icon: #878787;\n",
       "  }\n",
       "}\n",
       "\n",
       "#sk-container-id-3 {\n",
       "  color: var(--sklearn-color-text);\n",
       "}\n",
       "\n",
       "#sk-container-id-3 pre {\n",
       "  padding: 0;\n",
       "}\n",
       "\n",
       "#sk-container-id-3 input.sk-hidden--visually {\n",
       "  border: 0;\n",
       "  clip: rect(1px 1px 1px 1px);\n",
       "  clip: rect(1px, 1px, 1px, 1px);\n",
       "  height: 1px;\n",
       "  margin: -1px;\n",
       "  overflow: hidden;\n",
       "  padding: 0;\n",
       "  position: absolute;\n",
       "  width: 1px;\n",
       "}\n",
       "\n",
       "#sk-container-id-3 div.sk-dashed-wrapped {\n",
       "  border: 1px dashed var(--sklearn-color-line);\n",
       "  margin: 0 0.4em 0.5em 0.4em;\n",
       "  box-sizing: border-box;\n",
       "  padding-bottom: 0.4em;\n",
       "  background-color: var(--sklearn-color-background);\n",
       "}\n",
       "\n",
       "#sk-container-id-3 div.sk-container {\n",
       "  /* jupyter's `normalize.less` sets `[hidden] { display: none; }`\n",
       "     but bootstrap.min.css set `[hidden] { display: none !important; }`\n",
       "     so we also need the `!important` here to be able to override the\n",
       "     default hidden behavior on the sphinx rendered scikit-learn.org.\n",
       "     See: https://github.com/scikit-learn/scikit-learn/issues/21755 */\n",
       "  display: inline-block !important;\n",
       "  position: relative;\n",
       "}\n",
       "\n",
       "#sk-container-id-3 div.sk-text-repr-fallback {\n",
       "  display: none;\n",
       "}\n",
       "\n",
       "div.sk-parallel-item,\n",
       "div.sk-serial,\n",
       "div.sk-item {\n",
       "  /* draw centered vertical line to link estimators */\n",
       "  background-image: linear-gradient(var(--sklearn-color-text-on-default-background), var(--sklearn-color-text-on-default-background));\n",
       "  background-size: 2px 100%;\n",
       "  background-repeat: no-repeat;\n",
       "  background-position: center center;\n",
       "}\n",
       "\n",
       "/* Parallel-specific style estimator block */\n",
       "\n",
       "#sk-container-id-3 div.sk-parallel-item::after {\n",
       "  content: \"\";\n",
       "  width: 100%;\n",
       "  border-bottom: 2px solid var(--sklearn-color-text-on-default-background);\n",
       "  flex-grow: 1;\n",
       "}\n",
       "\n",
       "#sk-container-id-3 div.sk-parallel {\n",
       "  display: flex;\n",
       "  align-items: stretch;\n",
       "  justify-content: center;\n",
       "  background-color: var(--sklearn-color-background);\n",
       "  position: relative;\n",
       "}\n",
       "\n",
       "#sk-container-id-3 div.sk-parallel-item {\n",
       "  display: flex;\n",
       "  flex-direction: column;\n",
       "}\n",
       "\n",
       "#sk-container-id-3 div.sk-parallel-item:first-child::after {\n",
       "  align-self: flex-end;\n",
       "  width: 50%;\n",
       "}\n",
       "\n",
       "#sk-container-id-3 div.sk-parallel-item:last-child::after {\n",
       "  align-self: flex-start;\n",
       "  width: 50%;\n",
       "}\n",
       "\n",
       "#sk-container-id-3 div.sk-parallel-item:only-child::after {\n",
       "  width: 0;\n",
       "}\n",
       "\n",
       "/* Serial-specific style estimator block */\n",
       "\n",
       "#sk-container-id-3 div.sk-serial {\n",
       "  display: flex;\n",
       "  flex-direction: column;\n",
       "  align-items: center;\n",
       "  background-color: var(--sklearn-color-background);\n",
       "  padding-right: 1em;\n",
       "  padding-left: 1em;\n",
       "}\n",
       "\n",
       "\n",
       "/* Toggleable style: style used for estimator/Pipeline/ColumnTransformer box that is\n",
       "clickable and can be expanded/collapsed.\n",
       "- Pipeline and ColumnTransformer use this feature and define the default style\n",
       "- Estimators will overwrite some part of the style using the `sk-estimator` class\n",
       "*/\n",
       "\n",
       "/* Pipeline and ColumnTransformer style (default) */\n",
       "\n",
       "#sk-container-id-3 div.sk-toggleable {\n",
       "  /* Default theme specific background. It is overwritten whether we have a\n",
       "  specific estimator or a Pipeline/ColumnTransformer */\n",
       "  background-color: var(--sklearn-color-background);\n",
       "}\n",
       "\n",
       "/* Toggleable label */\n",
       "#sk-container-id-3 label.sk-toggleable__label {\n",
       "  cursor: pointer;\n",
       "  display: block;\n",
       "  width: 100%;\n",
       "  margin-bottom: 0;\n",
       "  padding: 0.5em;\n",
       "  box-sizing: border-box;\n",
       "  text-align: center;\n",
       "}\n",
       "\n",
       "#sk-container-id-3 label.sk-toggleable__label-arrow:before {\n",
       "  /* Arrow on the left of the label */\n",
       "  content: \"▸\";\n",
       "  float: left;\n",
       "  margin-right: 0.25em;\n",
       "  color: var(--sklearn-color-icon);\n",
       "}\n",
       "\n",
       "#sk-container-id-3 label.sk-toggleable__label-arrow:hover:before {\n",
       "  color: var(--sklearn-color-text);\n",
       "}\n",
       "\n",
       "/* Toggleable content - dropdown */\n",
       "\n",
       "#sk-container-id-3 div.sk-toggleable__content {\n",
       "  max-height: 0;\n",
       "  max-width: 0;\n",
       "  overflow: hidden;\n",
       "  text-align: left;\n",
       "  /* unfitted */\n",
       "  background-color: var(--sklearn-color-unfitted-level-0);\n",
       "}\n",
       "\n",
       "#sk-container-id-3 div.sk-toggleable__content.fitted {\n",
       "  /* fitted */\n",
       "  background-color: var(--sklearn-color-fitted-level-0);\n",
       "}\n",
       "\n",
       "#sk-container-id-3 div.sk-toggleable__content pre {\n",
       "  margin: 0.2em;\n",
       "  border-radius: 0.25em;\n",
       "  color: var(--sklearn-color-text);\n",
       "  /* unfitted */\n",
       "  background-color: var(--sklearn-color-unfitted-level-0);\n",
       "}\n",
       "\n",
       "#sk-container-id-3 div.sk-toggleable__content.fitted pre {\n",
       "  /* unfitted */\n",
       "  background-color: var(--sklearn-color-fitted-level-0);\n",
       "}\n",
       "\n",
       "#sk-container-id-3 input.sk-toggleable__control:checked~div.sk-toggleable__content {\n",
       "  /* Expand drop-down */\n",
       "  max-height: 200px;\n",
       "  max-width: 100%;\n",
       "  overflow: auto;\n",
       "}\n",
       "\n",
       "#sk-container-id-3 input.sk-toggleable__control:checked~label.sk-toggleable__label-arrow:before {\n",
       "  content: \"▾\";\n",
       "}\n",
       "\n",
       "/* Pipeline/ColumnTransformer-specific style */\n",
       "\n",
       "#sk-container-id-3 div.sk-label input.sk-toggleable__control:checked~label.sk-toggleable__label {\n",
       "  color: var(--sklearn-color-text);\n",
       "  background-color: var(--sklearn-color-unfitted-level-2);\n",
       "}\n",
       "\n",
       "#sk-container-id-3 div.sk-label.fitted input.sk-toggleable__control:checked~label.sk-toggleable__label {\n",
       "  background-color: var(--sklearn-color-fitted-level-2);\n",
       "}\n",
       "\n",
       "/* Estimator-specific style */\n",
       "\n",
       "/* Colorize estimator box */\n",
       "#sk-container-id-3 div.sk-estimator input.sk-toggleable__control:checked~label.sk-toggleable__label {\n",
       "  /* unfitted */\n",
       "  background-color: var(--sklearn-color-unfitted-level-2);\n",
       "}\n",
       "\n",
       "#sk-container-id-3 div.sk-estimator.fitted input.sk-toggleable__control:checked~label.sk-toggleable__label {\n",
       "  /* fitted */\n",
       "  background-color: var(--sklearn-color-fitted-level-2);\n",
       "}\n",
       "\n",
       "#sk-container-id-3 div.sk-label label.sk-toggleable__label,\n",
       "#sk-container-id-3 div.sk-label label {\n",
       "  /* The background is the default theme color */\n",
       "  color: var(--sklearn-color-text-on-default-background);\n",
       "}\n",
       "\n",
       "/* On hover, darken the color of the background */\n",
       "#sk-container-id-3 div.sk-label:hover label.sk-toggleable__label {\n",
       "  color: var(--sklearn-color-text);\n",
       "  background-color: var(--sklearn-color-unfitted-level-2);\n",
       "}\n",
       "\n",
       "/* Label box, darken color on hover, fitted */\n",
       "#sk-container-id-3 div.sk-label.fitted:hover label.sk-toggleable__label.fitted {\n",
       "  color: var(--sklearn-color-text);\n",
       "  background-color: var(--sklearn-color-fitted-level-2);\n",
       "}\n",
       "\n",
       "/* Estimator label */\n",
       "\n",
       "#sk-container-id-3 div.sk-label label {\n",
       "  font-family: monospace;\n",
       "  font-weight: bold;\n",
       "  display: inline-block;\n",
       "  line-height: 1.2em;\n",
       "}\n",
       "\n",
       "#sk-container-id-3 div.sk-label-container {\n",
       "  text-align: center;\n",
       "}\n",
       "\n",
       "/* Estimator-specific */\n",
       "#sk-container-id-3 div.sk-estimator {\n",
       "  font-family: monospace;\n",
       "  border: 1px dotted var(--sklearn-color-border-box);\n",
       "  border-radius: 0.25em;\n",
       "  box-sizing: border-box;\n",
       "  margin-bottom: 0.5em;\n",
       "  /* unfitted */\n",
       "  background-color: var(--sklearn-color-unfitted-level-0);\n",
       "}\n",
       "\n",
       "#sk-container-id-3 div.sk-estimator.fitted {\n",
       "  /* fitted */\n",
       "  background-color: var(--sklearn-color-fitted-level-0);\n",
       "}\n",
       "\n",
       "/* on hover */\n",
       "#sk-container-id-3 div.sk-estimator:hover {\n",
       "  /* unfitted */\n",
       "  background-color: var(--sklearn-color-unfitted-level-2);\n",
       "}\n",
       "\n",
       "#sk-container-id-3 div.sk-estimator.fitted:hover {\n",
       "  /* fitted */\n",
       "  background-color: var(--sklearn-color-fitted-level-2);\n",
       "}\n",
       "\n",
       "/* Specification for estimator info (e.g. \"i\" and \"?\") */\n",
       "\n",
       "/* Common style for \"i\" and \"?\" */\n",
       "\n",
       ".sk-estimator-doc-link,\n",
       "a:link.sk-estimator-doc-link,\n",
       "a:visited.sk-estimator-doc-link {\n",
       "  float: right;\n",
       "  font-size: smaller;\n",
       "  line-height: 1em;\n",
       "  font-family: monospace;\n",
       "  background-color: var(--sklearn-color-background);\n",
       "  border-radius: 1em;\n",
       "  height: 1em;\n",
       "  width: 1em;\n",
       "  text-decoration: none !important;\n",
       "  margin-left: 1ex;\n",
       "  /* unfitted */\n",
       "  border: var(--sklearn-color-unfitted-level-1) 1pt solid;\n",
       "  color: var(--sklearn-color-unfitted-level-1);\n",
       "}\n",
       "\n",
       ".sk-estimator-doc-link.fitted,\n",
       "a:link.sk-estimator-doc-link.fitted,\n",
       "a:visited.sk-estimator-doc-link.fitted {\n",
       "  /* fitted */\n",
       "  border: var(--sklearn-color-fitted-level-1) 1pt solid;\n",
       "  color: var(--sklearn-color-fitted-level-1);\n",
       "}\n",
       "\n",
       "/* On hover */\n",
       "div.sk-estimator:hover .sk-estimator-doc-link:hover,\n",
       ".sk-estimator-doc-link:hover,\n",
       "div.sk-label-container:hover .sk-estimator-doc-link:hover,\n",
       ".sk-estimator-doc-link:hover {\n",
       "  /* unfitted */\n",
       "  background-color: var(--sklearn-color-unfitted-level-3);\n",
       "  color: var(--sklearn-color-background);\n",
       "  text-decoration: none;\n",
       "}\n",
       "\n",
       "div.sk-estimator.fitted:hover .sk-estimator-doc-link.fitted:hover,\n",
       ".sk-estimator-doc-link.fitted:hover,\n",
       "div.sk-label-container:hover .sk-estimator-doc-link.fitted:hover,\n",
       ".sk-estimator-doc-link.fitted:hover {\n",
       "  /* fitted */\n",
       "  background-color: var(--sklearn-color-fitted-level-3);\n",
       "  color: var(--sklearn-color-background);\n",
       "  text-decoration: none;\n",
       "}\n",
       "\n",
       "/* Span, style for the box shown on hovering the info icon */\n",
       ".sk-estimator-doc-link span {\n",
       "  display: none;\n",
       "  z-index: 9999;\n",
       "  position: relative;\n",
       "  font-weight: normal;\n",
       "  right: .2ex;\n",
       "  padding: .5ex;\n",
       "  margin: .5ex;\n",
       "  width: min-content;\n",
       "  min-width: 20ex;\n",
       "  max-width: 50ex;\n",
       "  color: var(--sklearn-color-text);\n",
       "  box-shadow: 2pt 2pt 4pt #999;\n",
       "  /* unfitted */\n",
       "  background: var(--sklearn-color-unfitted-level-0);\n",
       "  border: .5pt solid var(--sklearn-color-unfitted-level-3);\n",
       "}\n",
       "\n",
       ".sk-estimator-doc-link.fitted span {\n",
       "  /* fitted */\n",
       "  background: var(--sklearn-color-fitted-level-0);\n",
       "  border: var(--sklearn-color-fitted-level-3);\n",
       "}\n",
       "\n",
       ".sk-estimator-doc-link:hover span {\n",
       "  display: block;\n",
       "}\n",
       "\n",
       "/* \"?\"-specific style due to the `<a>` HTML tag */\n",
       "\n",
       "#sk-container-id-3 a.estimator_doc_link {\n",
       "  float: right;\n",
       "  font-size: 1rem;\n",
       "  line-height: 1em;\n",
       "  font-family: monospace;\n",
       "  background-color: var(--sklearn-color-background);\n",
       "  border-radius: 1rem;\n",
       "  height: 1rem;\n",
       "  width: 1rem;\n",
       "  text-decoration: none;\n",
       "  /* unfitted */\n",
       "  color: var(--sklearn-color-unfitted-level-1);\n",
       "  border: var(--sklearn-color-unfitted-level-1) 1pt solid;\n",
       "}\n",
       "\n",
       "#sk-container-id-3 a.estimator_doc_link.fitted {\n",
       "  /* fitted */\n",
       "  border: var(--sklearn-color-fitted-level-1) 1pt solid;\n",
       "  color: var(--sklearn-color-fitted-level-1);\n",
       "}\n",
       "\n",
       "/* On hover */\n",
       "#sk-container-id-3 a.estimator_doc_link:hover {\n",
       "  /* unfitted */\n",
       "  background-color: var(--sklearn-color-unfitted-level-3);\n",
       "  color: var(--sklearn-color-background);\n",
       "  text-decoration: none;\n",
       "}\n",
       "\n",
       "#sk-container-id-3 a.estimator_doc_link.fitted:hover {\n",
       "  /* fitted */\n",
       "  background-color: var(--sklearn-color-fitted-level-3);\n",
       "}\n",
       "</style><div id=\"sk-container-id-3\" class=\"sk-top-container\"><div class=\"sk-text-repr-fallback\"><pre>SVC()</pre><b>In a Jupyter environment, please rerun this cell to show the HTML representation or trust the notebook. <br />On GitHub, the HTML representation is unable to render, please try loading this page with nbviewer.org.</b></div><div class=\"sk-container\" hidden><div class=\"sk-item\"><div class=\"sk-estimator fitted sk-toggleable\"><input class=\"sk-toggleable__control sk-hidden--visually\" id=\"sk-estimator-id-3\" type=\"checkbox\" checked><label for=\"sk-estimator-id-3\" class=\"sk-toggleable__label fitted sk-toggleable__label-arrow fitted\">&nbsp;&nbsp;SVC<a class=\"sk-estimator-doc-link fitted\" rel=\"noreferrer\" target=\"_blank\" href=\"https://scikit-learn.org/1.4/modules/generated/sklearn.svm.SVC.html\">?<span>Documentation for SVC</span></a><span class=\"sk-estimator-doc-link fitted\">i<span>Fitted</span></span></label><div class=\"sk-toggleable__content fitted\"><pre>SVC()</pre></div> </div></div></div></div>"
      ],
      "text/plain": [
       "SVC()"
      ]
     },
     "execution_count": 35,
     "metadata": {},
     "output_type": "execute_result"
    }
   ],
   "source": [
    "from sklearn.impute import SimpleImputer\n",
    "from sklearn.svm import SVC\n",
    "\n",
    "# Create an instance of SimpleImputer\n",
    "imputer = SimpleImputer(strategy='mean')\n",
    "\n",
    "# Fit the imputer and transform the training data\n",
    "X_train = imputer.fit_transform(X_train)\n",
    "X_test = imputer.transform(X_test)\n",
    "\n",
    "# Now you can fit the model on the imputed data\n",
    "model1 = SVC()\n",
    "model1.fit(X_train, y_train)"
   ]
  },
  {
   "cell_type": "code",
   "execution_count": 36,
   "id": "a6af41c9",
   "metadata": {
    "execution": {
     "iopub.execute_input": "2024-04-21T06:50:12.657850Z",
     "iopub.status.busy": "2024-04-21T06:50:12.657459Z",
     "iopub.status.idle": "2024-04-21T06:50:12.664454Z",
     "shell.execute_reply": "2024-04-21T06:50:12.663617Z"
    },
    "papermill": {
     "duration": 0.024555,
     "end_time": "2024-04-21T06:50:12.666542",
     "exception": false,
     "start_time": "2024-04-21T06:50:12.641987",
     "status": "completed"
    },
    "tags": []
   },
   "outputs": [],
   "source": [
    "y_pred = model1.predict(X_test)\n",
    "test_data_accuracy = accuracy_score(y_test, y_pred)"
   ]
  },
  {
   "cell_type": "code",
   "execution_count": 37,
   "id": "dac604e2",
   "metadata": {
    "execution": {
     "iopub.execute_input": "2024-04-21T06:50:12.699528Z",
     "iopub.status.busy": "2024-04-21T06:50:12.698730Z",
     "iopub.status.idle": "2024-04-21T06:50:12.707282Z",
     "shell.execute_reply": "2024-04-21T06:50:12.705640Z"
    },
    "papermill": {
     "duration": 0.028836,
     "end_time": "2024-04-21T06:50:12.710047",
     "exception": false,
     "start_time": "2024-04-21T06:50:12.681211",
     "status": "completed"
    },
    "tags": []
   },
   "outputs": [
    {
     "data": {
      "text/plain": [
       "71.42857142857143"
      ]
     },
     "execution_count": 37,
     "metadata": {},
     "output_type": "execute_result"
    }
   ],
   "source": [
    "test_data_accuracy*100"
   ]
  },
  {
   "cell_type": "markdown",
   "id": "18d25713",
   "metadata": {
    "papermill": {
     "duration": 0.014928,
     "end_time": "2024-04-21T06:50:12.740075",
     "exception": false,
     "start_time": "2024-04-21T06:50:12.725147",
     "status": "completed"
    },
    "tags": []
   },
   "source": [
    "## Logistic Regression"
   ]
  },
  {
   "cell_type": "code",
   "execution_count": 38,
   "id": "64f2f332",
   "metadata": {
    "execution": {
     "iopub.execute_input": "2024-04-21T06:50:12.771973Z",
     "iopub.status.busy": "2024-04-21T06:50:12.771592Z",
     "iopub.status.idle": "2024-04-21T06:50:12.776957Z",
     "shell.execute_reply": "2024-04-21T06:50:12.775864Z"
    },
    "papermill": {
     "duration": 0.02385,
     "end_time": "2024-04-21T06:50:12.778913",
     "exception": false,
     "start_time": "2024-04-21T06:50:12.755063",
     "status": "completed"
    },
    "tags": []
   },
   "outputs": [],
   "source": [
    "model2=LogisticRegression()"
   ]
  },
  {
   "cell_type": "code",
   "execution_count": 39,
   "id": "20c1b94b",
   "metadata": {
    "execution": {
     "iopub.execute_input": "2024-04-21T06:50:12.808874Z",
     "iopub.status.busy": "2024-04-21T06:50:12.808548Z",
     "iopub.status.idle": "2024-04-21T06:50:12.828374Z",
     "shell.execute_reply": "2024-04-21T06:50:12.827625Z"
    },
    "papermill": {
     "duration": 0.038095,
     "end_time": "2024-04-21T06:50:12.831053",
     "exception": false,
     "start_time": "2024-04-21T06:50:12.792958",
     "status": "completed"
    },
    "tags": []
   },
   "outputs": [
    {
     "data": {
      "text/html": [
       "<style>#sk-container-id-4 {\n",
       "  /* Definition of color scheme common for light and dark mode */\n",
       "  --sklearn-color-text: black;\n",
       "  --sklearn-color-line: gray;\n",
       "  /* Definition of color scheme for unfitted estimators */\n",
       "  --sklearn-color-unfitted-level-0: #fff5e6;\n",
       "  --sklearn-color-unfitted-level-1: #f6e4d2;\n",
       "  --sklearn-color-unfitted-level-2: #ffe0b3;\n",
       "  --sklearn-color-unfitted-level-3: chocolate;\n",
       "  /* Definition of color scheme for fitted estimators */\n",
       "  --sklearn-color-fitted-level-0: #f0f8ff;\n",
       "  --sklearn-color-fitted-level-1: #d4ebff;\n",
       "  --sklearn-color-fitted-level-2: #b3dbfd;\n",
       "  --sklearn-color-fitted-level-3: cornflowerblue;\n",
       "\n",
       "  /* Specific color for light theme */\n",
       "  --sklearn-color-text-on-default-background: var(--sg-text-color, var(--theme-code-foreground, var(--jp-content-font-color1, black)));\n",
       "  --sklearn-color-background: var(--sg-background-color, var(--theme-background, var(--jp-layout-color0, white)));\n",
       "  --sklearn-color-border-box: var(--sg-text-color, var(--theme-code-foreground, var(--jp-content-font-color1, black)));\n",
       "  --sklearn-color-icon: #696969;\n",
       "\n",
       "  @media (prefers-color-scheme: dark) {\n",
       "    /* Redefinition of color scheme for dark theme */\n",
       "    --sklearn-color-text-on-default-background: var(--sg-text-color, var(--theme-code-foreground, var(--jp-content-font-color1, white)));\n",
       "    --sklearn-color-background: var(--sg-background-color, var(--theme-background, var(--jp-layout-color0, #111)));\n",
       "    --sklearn-color-border-box: var(--sg-text-color, var(--theme-code-foreground, var(--jp-content-font-color1, white)));\n",
       "    --sklearn-color-icon: #878787;\n",
       "  }\n",
       "}\n",
       "\n",
       "#sk-container-id-4 {\n",
       "  color: var(--sklearn-color-text);\n",
       "}\n",
       "\n",
       "#sk-container-id-4 pre {\n",
       "  padding: 0;\n",
       "}\n",
       "\n",
       "#sk-container-id-4 input.sk-hidden--visually {\n",
       "  border: 0;\n",
       "  clip: rect(1px 1px 1px 1px);\n",
       "  clip: rect(1px, 1px, 1px, 1px);\n",
       "  height: 1px;\n",
       "  margin: -1px;\n",
       "  overflow: hidden;\n",
       "  padding: 0;\n",
       "  position: absolute;\n",
       "  width: 1px;\n",
       "}\n",
       "\n",
       "#sk-container-id-4 div.sk-dashed-wrapped {\n",
       "  border: 1px dashed var(--sklearn-color-line);\n",
       "  margin: 0 0.4em 0.5em 0.4em;\n",
       "  box-sizing: border-box;\n",
       "  padding-bottom: 0.4em;\n",
       "  background-color: var(--sklearn-color-background);\n",
       "}\n",
       "\n",
       "#sk-container-id-4 div.sk-container {\n",
       "  /* jupyter's `normalize.less` sets `[hidden] { display: none; }`\n",
       "     but bootstrap.min.css set `[hidden] { display: none !important; }`\n",
       "     so we also need the `!important` here to be able to override the\n",
       "     default hidden behavior on the sphinx rendered scikit-learn.org.\n",
       "     See: https://github.com/scikit-learn/scikit-learn/issues/21755 */\n",
       "  display: inline-block !important;\n",
       "  position: relative;\n",
       "}\n",
       "\n",
       "#sk-container-id-4 div.sk-text-repr-fallback {\n",
       "  display: none;\n",
       "}\n",
       "\n",
       "div.sk-parallel-item,\n",
       "div.sk-serial,\n",
       "div.sk-item {\n",
       "  /* draw centered vertical line to link estimators */\n",
       "  background-image: linear-gradient(var(--sklearn-color-text-on-default-background), var(--sklearn-color-text-on-default-background));\n",
       "  background-size: 2px 100%;\n",
       "  background-repeat: no-repeat;\n",
       "  background-position: center center;\n",
       "}\n",
       "\n",
       "/* Parallel-specific style estimator block */\n",
       "\n",
       "#sk-container-id-4 div.sk-parallel-item::after {\n",
       "  content: \"\";\n",
       "  width: 100%;\n",
       "  border-bottom: 2px solid var(--sklearn-color-text-on-default-background);\n",
       "  flex-grow: 1;\n",
       "}\n",
       "\n",
       "#sk-container-id-4 div.sk-parallel {\n",
       "  display: flex;\n",
       "  align-items: stretch;\n",
       "  justify-content: center;\n",
       "  background-color: var(--sklearn-color-background);\n",
       "  position: relative;\n",
       "}\n",
       "\n",
       "#sk-container-id-4 div.sk-parallel-item {\n",
       "  display: flex;\n",
       "  flex-direction: column;\n",
       "}\n",
       "\n",
       "#sk-container-id-4 div.sk-parallel-item:first-child::after {\n",
       "  align-self: flex-end;\n",
       "  width: 50%;\n",
       "}\n",
       "\n",
       "#sk-container-id-4 div.sk-parallel-item:last-child::after {\n",
       "  align-self: flex-start;\n",
       "  width: 50%;\n",
       "}\n",
       "\n",
       "#sk-container-id-4 div.sk-parallel-item:only-child::after {\n",
       "  width: 0;\n",
       "}\n",
       "\n",
       "/* Serial-specific style estimator block */\n",
       "\n",
       "#sk-container-id-4 div.sk-serial {\n",
       "  display: flex;\n",
       "  flex-direction: column;\n",
       "  align-items: center;\n",
       "  background-color: var(--sklearn-color-background);\n",
       "  padding-right: 1em;\n",
       "  padding-left: 1em;\n",
       "}\n",
       "\n",
       "\n",
       "/* Toggleable style: style used for estimator/Pipeline/ColumnTransformer box that is\n",
       "clickable and can be expanded/collapsed.\n",
       "- Pipeline and ColumnTransformer use this feature and define the default style\n",
       "- Estimators will overwrite some part of the style using the `sk-estimator` class\n",
       "*/\n",
       "\n",
       "/* Pipeline and ColumnTransformer style (default) */\n",
       "\n",
       "#sk-container-id-4 div.sk-toggleable {\n",
       "  /* Default theme specific background. It is overwritten whether we have a\n",
       "  specific estimator or a Pipeline/ColumnTransformer */\n",
       "  background-color: var(--sklearn-color-background);\n",
       "}\n",
       "\n",
       "/* Toggleable label */\n",
       "#sk-container-id-4 label.sk-toggleable__label {\n",
       "  cursor: pointer;\n",
       "  display: block;\n",
       "  width: 100%;\n",
       "  margin-bottom: 0;\n",
       "  padding: 0.5em;\n",
       "  box-sizing: border-box;\n",
       "  text-align: center;\n",
       "}\n",
       "\n",
       "#sk-container-id-4 label.sk-toggleable__label-arrow:before {\n",
       "  /* Arrow on the left of the label */\n",
       "  content: \"▸\";\n",
       "  float: left;\n",
       "  margin-right: 0.25em;\n",
       "  color: var(--sklearn-color-icon);\n",
       "}\n",
       "\n",
       "#sk-container-id-4 label.sk-toggleable__label-arrow:hover:before {\n",
       "  color: var(--sklearn-color-text);\n",
       "}\n",
       "\n",
       "/* Toggleable content - dropdown */\n",
       "\n",
       "#sk-container-id-4 div.sk-toggleable__content {\n",
       "  max-height: 0;\n",
       "  max-width: 0;\n",
       "  overflow: hidden;\n",
       "  text-align: left;\n",
       "  /* unfitted */\n",
       "  background-color: var(--sklearn-color-unfitted-level-0);\n",
       "}\n",
       "\n",
       "#sk-container-id-4 div.sk-toggleable__content.fitted {\n",
       "  /* fitted */\n",
       "  background-color: var(--sklearn-color-fitted-level-0);\n",
       "}\n",
       "\n",
       "#sk-container-id-4 div.sk-toggleable__content pre {\n",
       "  margin: 0.2em;\n",
       "  border-radius: 0.25em;\n",
       "  color: var(--sklearn-color-text);\n",
       "  /* unfitted */\n",
       "  background-color: var(--sklearn-color-unfitted-level-0);\n",
       "}\n",
       "\n",
       "#sk-container-id-4 div.sk-toggleable__content.fitted pre {\n",
       "  /* unfitted */\n",
       "  background-color: var(--sklearn-color-fitted-level-0);\n",
       "}\n",
       "\n",
       "#sk-container-id-4 input.sk-toggleable__control:checked~div.sk-toggleable__content {\n",
       "  /* Expand drop-down */\n",
       "  max-height: 200px;\n",
       "  max-width: 100%;\n",
       "  overflow: auto;\n",
       "}\n",
       "\n",
       "#sk-container-id-4 input.sk-toggleable__control:checked~label.sk-toggleable__label-arrow:before {\n",
       "  content: \"▾\";\n",
       "}\n",
       "\n",
       "/* Pipeline/ColumnTransformer-specific style */\n",
       "\n",
       "#sk-container-id-4 div.sk-label input.sk-toggleable__control:checked~label.sk-toggleable__label {\n",
       "  color: var(--sklearn-color-text);\n",
       "  background-color: var(--sklearn-color-unfitted-level-2);\n",
       "}\n",
       "\n",
       "#sk-container-id-4 div.sk-label.fitted input.sk-toggleable__control:checked~label.sk-toggleable__label {\n",
       "  background-color: var(--sklearn-color-fitted-level-2);\n",
       "}\n",
       "\n",
       "/* Estimator-specific style */\n",
       "\n",
       "/* Colorize estimator box */\n",
       "#sk-container-id-4 div.sk-estimator input.sk-toggleable__control:checked~label.sk-toggleable__label {\n",
       "  /* unfitted */\n",
       "  background-color: var(--sklearn-color-unfitted-level-2);\n",
       "}\n",
       "\n",
       "#sk-container-id-4 div.sk-estimator.fitted input.sk-toggleable__control:checked~label.sk-toggleable__label {\n",
       "  /* fitted */\n",
       "  background-color: var(--sklearn-color-fitted-level-2);\n",
       "}\n",
       "\n",
       "#sk-container-id-4 div.sk-label label.sk-toggleable__label,\n",
       "#sk-container-id-4 div.sk-label label {\n",
       "  /* The background is the default theme color */\n",
       "  color: var(--sklearn-color-text-on-default-background);\n",
       "}\n",
       "\n",
       "/* On hover, darken the color of the background */\n",
       "#sk-container-id-4 div.sk-label:hover label.sk-toggleable__label {\n",
       "  color: var(--sklearn-color-text);\n",
       "  background-color: var(--sklearn-color-unfitted-level-2);\n",
       "}\n",
       "\n",
       "/* Label box, darken color on hover, fitted */\n",
       "#sk-container-id-4 div.sk-label.fitted:hover label.sk-toggleable__label.fitted {\n",
       "  color: var(--sklearn-color-text);\n",
       "  background-color: var(--sklearn-color-fitted-level-2);\n",
       "}\n",
       "\n",
       "/* Estimator label */\n",
       "\n",
       "#sk-container-id-4 div.sk-label label {\n",
       "  font-family: monospace;\n",
       "  font-weight: bold;\n",
       "  display: inline-block;\n",
       "  line-height: 1.2em;\n",
       "}\n",
       "\n",
       "#sk-container-id-4 div.sk-label-container {\n",
       "  text-align: center;\n",
       "}\n",
       "\n",
       "/* Estimator-specific */\n",
       "#sk-container-id-4 div.sk-estimator {\n",
       "  font-family: monospace;\n",
       "  border: 1px dotted var(--sklearn-color-border-box);\n",
       "  border-radius: 0.25em;\n",
       "  box-sizing: border-box;\n",
       "  margin-bottom: 0.5em;\n",
       "  /* unfitted */\n",
       "  background-color: var(--sklearn-color-unfitted-level-0);\n",
       "}\n",
       "\n",
       "#sk-container-id-4 div.sk-estimator.fitted {\n",
       "  /* fitted */\n",
       "  background-color: var(--sklearn-color-fitted-level-0);\n",
       "}\n",
       "\n",
       "/* on hover */\n",
       "#sk-container-id-4 div.sk-estimator:hover {\n",
       "  /* unfitted */\n",
       "  background-color: var(--sklearn-color-unfitted-level-2);\n",
       "}\n",
       "\n",
       "#sk-container-id-4 div.sk-estimator.fitted:hover {\n",
       "  /* fitted */\n",
       "  background-color: var(--sklearn-color-fitted-level-2);\n",
       "}\n",
       "\n",
       "/* Specification for estimator info (e.g. \"i\" and \"?\") */\n",
       "\n",
       "/* Common style for \"i\" and \"?\" */\n",
       "\n",
       ".sk-estimator-doc-link,\n",
       "a:link.sk-estimator-doc-link,\n",
       "a:visited.sk-estimator-doc-link {\n",
       "  float: right;\n",
       "  font-size: smaller;\n",
       "  line-height: 1em;\n",
       "  font-family: monospace;\n",
       "  background-color: var(--sklearn-color-background);\n",
       "  border-radius: 1em;\n",
       "  height: 1em;\n",
       "  width: 1em;\n",
       "  text-decoration: none !important;\n",
       "  margin-left: 1ex;\n",
       "  /* unfitted */\n",
       "  border: var(--sklearn-color-unfitted-level-1) 1pt solid;\n",
       "  color: var(--sklearn-color-unfitted-level-1);\n",
       "}\n",
       "\n",
       ".sk-estimator-doc-link.fitted,\n",
       "a:link.sk-estimator-doc-link.fitted,\n",
       "a:visited.sk-estimator-doc-link.fitted {\n",
       "  /* fitted */\n",
       "  border: var(--sklearn-color-fitted-level-1) 1pt solid;\n",
       "  color: var(--sklearn-color-fitted-level-1);\n",
       "}\n",
       "\n",
       "/* On hover */\n",
       "div.sk-estimator:hover .sk-estimator-doc-link:hover,\n",
       ".sk-estimator-doc-link:hover,\n",
       "div.sk-label-container:hover .sk-estimator-doc-link:hover,\n",
       ".sk-estimator-doc-link:hover {\n",
       "  /* unfitted */\n",
       "  background-color: var(--sklearn-color-unfitted-level-3);\n",
       "  color: var(--sklearn-color-background);\n",
       "  text-decoration: none;\n",
       "}\n",
       "\n",
       "div.sk-estimator.fitted:hover .sk-estimator-doc-link.fitted:hover,\n",
       ".sk-estimator-doc-link.fitted:hover,\n",
       "div.sk-label-container:hover .sk-estimator-doc-link.fitted:hover,\n",
       ".sk-estimator-doc-link.fitted:hover {\n",
       "  /* fitted */\n",
       "  background-color: var(--sklearn-color-fitted-level-3);\n",
       "  color: var(--sklearn-color-background);\n",
       "  text-decoration: none;\n",
       "}\n",
       "\n",
       "/* Span, style for the box shown on hovering the info icon */\n",
       ".sk-estimator-doc-link span {\n",
       "  display: none;\n",
       "  z-index: 9999;\n",
       "  position: relative;\n",
       "  font-weight: normal;\n",
       "  right: .2ex;\n",
       "  padding: .5ex;\n",
       "  margin: .5ex;\n",
       "  width: min-content;\n",
       "  min-width: 20ex;\n",
       "  max-width: 50ex;\n",
       "  color: var(--sklearn-color-text);\n",
       "  box-shadow: 2pt 2pt 4pt #999;\n",
       "  /* unfitted */\n",
       "  background: var(--sklearn-color-unfitted-level-0);\n",
       "  border: .5pt solid var(--sklearn-color-unfitted-level-3);\n",
       "}\n",
       "\n",
       ".sk-estimator-doc-link.fitted span {\n",
       "  /* fitted */\n",
       "  background: var(--sklearn-color-fitted-level-0);\n",
       "  border: var(--sklearn-color-fitted-level-3);\n",
       "}\n",
       "\n",
       ".sk-estimator-doc-link:hover span {\n",
       "  display: block;\n",
       "}\n",
       "\n",
       "/* \"?\"-specific style due to the `<a>` HTML tag */\n",
       "\n",
       "#sk-container-id-4 a.estimator_doc_link {\n",
       "  float: right;\n",
       "  font-size: 1rem;\n",
       "  line-height: 1em;\n",
       "  font-family: monospace;\n",
       "  background-color: var(--sklearn-color-background);\n",
       "  border-radius: 1rem;\n",
       "  height: 1rem;\n",
       "  width: 1rem;\n",
       "  text-decoration: none;\n",
       "  /* unfitted */\n",
       "  color: var(--sklearn-color-unfitted-level-1);\n",
       "  border: var(--sklearn-color-unfitted-level-1) 1pt solid;\n",
       "}\n",
       "\n",
       "#sk-container-id-4 a.estimator_doc_link.fitted {\n",
       "  /* fitted */\n",
       "  border: var(--sklearn-color-fitted-level-1) 1pt solid;\n",
       "  color: var(--sklearn-color-fitted-level-1);\n",
       "}\n",
       "\n",
       "/* On hover */\n",
       "#sk-container-id-4 a.estimator_doc_link:hover {\n",
       "  /* unfitted */\n",
       "  background-color: var(--sklearn-color-unfitted-level-3);\n",
       "  color: var(--sklearn-color-background);\n",
       "  text-decoration: none;\n",
       "}\n",
       "\n",
       "#sk-container-id-4 a.estimator_doc_link.fitted:hover {\n",
       "  /* fitted */\n",
       "  background-color: var(--sklearn-color-fitted-level-3);\n",
       "}\n",
       "</style><div id=\"sk-container-id-4\" class=\"sk-top-container\"><div class=\"sk-text-repr-fallback\"><pre>LogisticRegression()</pre><b>In a Jupyter environment, please rerun this cell to show the HTML representation or trust the notebook. <br />On GitHub, the HTML representation is unable to render, please try loading this page with nbviewer.org.</b></div><div class=\"sk-container\" hidden><div class=\"sk-item\"><div class=\"sk-estimator fitted sk-toggleable\"><input class=\"sk-toggleable__control sk-hidden--visually\" id=\"sk-estimator-id-4\" type=\"checkbox\" checked><label for=\"sk-estimator-id-4\" class=\"sk-toggleable__label fitted sk-toggleable__label-arrow fitted\">&nbsp;&nbsp;LogisticRegression<a class=\"sk-estimator-doc-link fitted\" rel=\"noreferrer\" target=\"_blank\" href=\"https://scikit-learn.org/1.4/modules/generated/sklearn.linear_model.LogisticRegression.html\">?<span>Documentation for LogisticRegression</span></a><span class=\"sk-estimator-doc-link fitted\">i<span>Fitted</span></span></label><div class=\"sk-toggleable__content fitted\"><pre>LogisticRegression()</pre></div> </div></div></div></div>"
      ],
      "text/plain": [
       "LogisticRegression()"
      ]
     },
     "execution_count": 39,
     "metadata": {},
     "output_type": "execute_result"
    }
   ],
   "source": [
    "model2.fit(X_train,y_train)"
   ]
  },
  {
   "cell_type": "code",
   "execution_count": 40,
   "id": "3fd02aee",
   "metadata": {
    "execution": {
     "iopub.execute_input": "2024-04-21T06:50:12.867771Z",
     "iopub.status.busy": "2024-04-21T06:50:12.867265Z",
     "iopub.status.idle": "2024-04-21T06:50:12.877034Z",
     "shell.execute_reply": "2024-04-21T06:50:12.875967Z"
    },
    "papermill": {
     "duration": 0.034253,
     "end_time": "2024-04-21T06:50:12.879624",
     "exception": false,
     "start_time": "2024-04-21T06:50:12.845371",
     "status": "completed"
    },
    "tags": []
   },
   "outputs": [],
   "source": [
    "y_pred = model2.predict(X_test)\n",
    "test_data_accuracy = accuracy_score(y_test, y_pred)"
   ]
  },
  {
   "cell_type": "code",
   "execution_count": 41,
   "id": "2abcf929",
   "metadata": {
    "execution": {
     "iopub.execute_input": "2024-04-21T06:50:12.914677Z",
     "iopub.status.busy": "2024-04-21T06:50:12.914189Z",
     "iopub.status.idle": "2024-04-21T06:50:12.922806Z",
     "shell.execute_reply": "2024-04-21T06:50:12.920961Z"
    },
    "papermill": {
     "duration": 0.027274,
     "end_time": "2024-04-21T06:50:12.925343",
     "exception": false,
     "start_time": "2024-04-21T06:50:12.898069",
     "status": "completed"
    },
    "tags": []
   },
   "outputs": [
    {
     "data": {
      "text/plain": [
       "64.48979591836735"
      ]
     },
     "execution_count": 41,
     "metadata": {},
     "output_type": "execute_result"
    }
   ],
   "source": [
    "test_data_accuracy*100"
   ]
  },
  {
   "cell_type": "markdown",
   "id": "27070e72",
   "metadata": {
    "papermill": {
     "duration": 0.014722,
     "end_time": "2024-04-21T06:50:12.955043",
     "exception": false,
     "start_time": "2024-04-21T06:50:12.940321",
     "status": "completed"
    },
    "tags": []
   },
   "source": [
    "# Ensemble Methods\n",
    "## Voting"
   ]
  },
  {
   "cell_type": "code",
   "execution_count": 42,
   "id": "43c1b76a",
   "metadata": {
    "execution": {
     "iopub.execute_input": "2024-04-21T06:50:12.986763Z",
     "iopub.status.busy": "2024-04-21T06:50:12.986183Z",
     "iopub.status.idle": "2024-04-21T06:50:13.196551Z",
     "shell.execute_reply": "2024-04-21T06:50:13.195529Z"
    },
    "papermill": {
     "duration": 0.229419,
     "end_time": "2024-04-21T06:50:13.199290",
     "exception": false,
     "start_time": "2024-04-21T06:50:12.969871",
     "status": "completed"
    },
    "tags": []
   },
   "outputs": [
    {
     "data": {
      "text/plain": [
       "69.79591836734694"
      ]
     },
     "execution_count": 42,
     "metadata": {},
     "output_type": "execute_result"
    }
   ],
   "source": [
    "from sklearn.ensemble import VotingClassifier\n",
    "# Create an ensemble model using voting\n",
    "model3 = VotingClassifier(estimators=[('svc', model1), ('logistic_regression', model2)], voting='hard')\n",
    "model3.fit(X_train,y_train)  \n",
    "predictions = model3.predict(X_test)\n",
    "test_data_accuracy = accuracy_score(y_test, predictions)\n",
    "test_data_accuracy*100"
   ]
  },
  {
   "cell_type": "markdown",
   "id": "a2db124e",
   "metadata": {
    "papermill": {
     "duration": 0.015724,
     "end_time": "2024-04-21T06:50:13.229881",
     "exception": false,
     "start_time": "2024-04-21T06:50:13.214157",
     "status": "completed"
    },
    "tags": []
   },
   "source": [
    "## Bagging"
   ]
  },
  {
   "cell_type": "code",
   "execution_count": 47,
   "id": "2351e87c",
   "metadata": {
    "execution": {
     "iopub.execute_input": "2024-04-21T06:50:13.262090Z",
     "iopub.status.busy": "2024-04-21T06:50:13.261705Z",
     "iopub.status.idle": "2024-04-21T06:50:14.669053Z",
     "shell.execute_reply": "2024-04-21T06:50:14.667686Z"
    },
    "papermill": {
     "duration": 1.42669,
     "end_time": "2024-04-21T06:50:14.671889",
     "exception": false,
     "start_time": "2024-04-21T06:50:13.245199",
     "status": "completed"
    },
    "tags": []
   },
   "outputs": [
    {
     "data": {
      "text/plain": [
       "83.6734693877551"
      ]
     },
     "execution_count": 47,
     "metadata": {},
     "output_type": "execute_result"
    }
   ],
   "source": [
    "from sklearn.ensemble import BaggingClassifier\n",
    "from sklearn.ensemble import RandomForestClassifier\n",
    "model4 = BaggingClassifier(estimator=RandomForestClassifier(), n_estimators=10)\n",
    "model4.fit(X_train, y_train)\n",
    "predictions = model4.predict(X_test)\n",
    "test_data_accuracy = accuracy_score(y_test, predictions)\n",
    "test_data_accuracy*100"
   ]
  },
  {
   "cell_type": "code",
   "execution_count": 49,
   "id": "9f09471b",
   "metadata": {
    "execution": {
     "iopub.execute_input": "2024-04-21T06:50:14.703432Z",
     "iopub.status.busy": "2024-04-21T06:50:14.703003Z",
     "iopub.status.idle": "2024-04-21T06:50:14.824099Z",
     "shell.execute_reply": "2024-04-21T06:50:14.822809Z"
    },
    "papermill": {
     "duration": 0.139941,
     "end_time": "2024-04-21T06:50:14.826627",
     "exception": false,
     "start_time": "2024-04-21T06:50:14.686686",
     "status": "completed"
    },
    "tags": []
   },
   "outputs": [
    {
     "data": {
      "text/plain": [
       "68.9795918367347"
      ]
     },
     "execution_count": 49,
     "metadata": {},
     "output_type": "execute_result"
    }
   ],
   "source": [
    "from sklearn.ensemble import BaggingClassifier\n",
    "from sklearn.ensemble import RandomForestClassifier\n",
    "model4 = BaggingClassifier(estimator=model3, n_estimators=10)\n",
    "model4.fit(X_train, y_train)\n",
    "predictions = model4.predict(X_test)\n",
    "test_data_accuracy = accuracy_score(y_test, predictions)\n",
    "test_data_accuracy*100"
   ]
  },
  {
   "cell_type": "code",
   "execution_count": 50,
   "id": "b03271cc",
   "metadata": {
    "execution": {
     "iopub.execute_input": "2024-04-21T06:50:14.858473Z",
     "iopub.status.busy": "2024-04-21T06:50:14.858063Z",
     "iopub.status.idle": "2024-04-21T06:50:14.934751Z",
     "shell.execute_reply": "2024-04-21T06:50:14.933414Z"
    },
    "papermill": {
     "duration": 0.095267,
     "end_time": "2024-04-21T06:50:14.936863",
     "exception": false,
     "start_time": "2024-04-21T06:50:14.841596",
     "status": "completed"
    },
    "tags": []
   },
   "outputs": [
    {
     "data": {
      "text/plain": [
       "61.63265306122449"
      ]
     },
     "execution_count": 50,
     "metadata": {},
     "output_type": "execute_result"
    }
   ],
   "source": [
    "from sklearn.ensemble import BaggingClassifier\n",
    "from sklearn.ensemble import RandomForestClassifier\n",
    "model9 = BaggingClassifier(estimator=LogisticRegression(), n_estimators=10)\n",
    "model9.fit(X_train, y_train)\n",
    "predictions = model9.predict(X_test)\n",
    "test_data_accuracy = accuracy_score(y_test, predictions)\n",
    "test_data_accuracy*100"
   ]
  },
  {
   "cell_type": "markdown",
   "id": "77477c7d",
   "metadata": {
    "papermill": {
     "duration": 0.014707,
     "end_time": "2024-04-21T06:50:14.966716",
     "exception": false,
     "start_time": "2024-04-21T06:50:14.952009",
     "status": "completed"
    },
    "tags": []
   },
   "source": [
    "## Boosting"
   ]
  },
  {
   "cell_type": "code",
   "execution_count": 51,
   "id": "2afc8e7b",
   "metadata": {
    "execution": {
     "iopub.execute_input": "2024-04-21T06:50:14.998613Z",
     "iopub.status.busy": "2024-04-21T06:50:14.998180Z",
     "iopub.status.idle": "2024-04-21T06:50:15.095179Z",
     "shell.execute_reply": "2024-04-21T06:50:15.093732Z"
    },
    "papermill": {
     "duration": 0.115812,
     "end_time": "2024-04-21T06:50:15.097599",
     "exception": false,
     "start_time": "2024-04-21T06:50:14.981787",
     "status": "completed"
    },
    "tags": []
   },
   "outputs": [
    {
     "name": "stderr",
     "output_type": "stream",
     "text": [
      "/home/pratik/Desktop/Plaksha_Docs/Semester_4/MLPR/Projects/env/lib/python3.10/site-packages/sklearn/ensemble/_weight_boosting.py:519: FutureWarning:\n",
      "\n",
      "The SAMME.R algorithm (the default) is deprecated and will be removed in 1.6. Use the SAMME algorithm to circumvent this warning.\n",
      "\n"
     ]
    },
    {
     "data": {
      "text/plain": [
       "77.55102040816327"
      ]
     },
     "execution_count": 51,
     "metadata": {},
     "output_type": "execute_result"
    }
   ],
   "source": [
    "from sklearn.ensemble import AdaBoostClassifier\n",
    "\n",
    "model5 = AdaBoostClassifier(n_estimators=50)\n",
    "model5.fit(X_train, y_train)\n",
    "predictions = model5.predict(X_test)\n",
    "test_data_accuracy = accuracy_score(y_test, predictions)\n",
    "test_data_accuracy*100"
   ]
  },
  {
   "cell_type": "markdown",
   "id": "ea32a53e",
   "metadata": {
    "papermill": {
     "duration": 0.014781,
     "end_time": "2024-04-21T06:50:15.127356",
     "exception": false,
     "start_time": "2024-04-21T06:50:15.112575",
     "status": "completed"
    },
    "tags": []
   },
   "source": [
    "## Stacking"
   ]
  },
  {
   "cell_type": "code",
   "execution_count": 52,
   "id": "6a1fb7cb",
   "metadata": {
    "execution": {
     "iopub.execute_input": "2024-04-21T06:50:15.160521Z",
     "iopub.status.busy": "2024-04-21T06:50:15.160153Z",
     "iopub.status.idle": "2024-04-21T06:50:15.219432Z",
     "shell.execute_reply": "2024-04-21T06:50:15.218032Z"
    },
    "papermill": {
     "duration": 0.079461,
     "end_time": "2024-04-21T06:50:15.222349",
     "exception": false,
     "start_time": "2024-04-21T06:50:15.142888",
     "status": "completed"
    },
    "tags": []
   },
   "outputs": [],
   "source": [
    "from sklearn.ensemble import StackingClassifier\n",
    "estimators = [('svc', model1), ('logistic_regression', model2)]\n",
    "meta_estimator = LogisticRegression()\n",
    "model6 = StackingClassifier(estimators=estimators, final_estimator=meta_estimator)\n",
    "model6.fit(X_train, y_train)\n",
    "predictions = model6.predict(X_test)"
   ]
  },
  {
   "cell_type": "code",
   "execution_count": 53,
   "id": "3ee53d8f",
   "metadata": {
    "execution": {
     "iopub.execute_input": "2024-04-21T06:50:15.254478Z",
     "iopub.status.busy": "2024-04-21T06:50:15.254110Z",
     "iopub.status.idle": "2024-04-21T06:50:15.262526Z",
     "shell.execute_reply": "2024-04-21T06:50:15.261279Z"
    },
    "papermill": {
     "duration": 0.027044,
     "end_time": "2024-04-21T06:50:15.264535",
     "exception": false,
     "start_time": "2024-04-21T06:50:15.237491",
     "status": "completed"
    },
    "tags": []
   },
   "outputs": [
    {
     "data": {
      "text/plain": [
       "70.20408163265306"
      ]
     },
     "execution_count": 53,
     "metadata": {},
     "output_type": "execute_result"
    }
   ],
   "source": [
    "test_data_accuracy = accuracy_score(y_test, predictions)\n",
    "test_data_accuracy*100"
   ]
  },
  {
   "cell_type": "code",
   "execution_count": 54,
   "id": "57954bfc",
   "metadata": {
    "execution": {
     "iopub.execute_input": "2024-04-21T06:50:15.296488Z",
     "iopub.status.busy": "2024-04-21T06:50:15.295501Z",
     "iopub.status.idle": "2024-04-21T06:50:15.348380Z",
     "shell.execute_reply": "2024-04-21T06:50:15.346925Z"
    },
    "papermill": {
     "duration": 0.071557,
     "end_time": "2024-04-21T06:50:15.351077",
     "exception": false,
     "start_time": "2024-04-21T06:50:15.279520",
     "status": "completed"
    },
    "tags": []
   },
   "outputs": [],
   "source": [
    "from sklearn.ensemble import StackingClassifier\n",
    "estimators = [('svc', model1), ('logistic_regression', model2)]\n",
    "meta_estimator = svm.SVC()\n",
    "model7 = StackingClassifier(estimators=estimators, final_estimator=meta_estimator)\n",
    "model7.fit(X_train, y_train)\n",
    "predictions = model7.predict(X_test)"
   ]
  },
  {
   "cell_type": "code",
   "execution_count": 55,
   "id": "62b169f8",
   "metadata": {
    "execution": {
     "iopub.execute_input": "2024-04-21T06:50:15.385376Z",
     "iopub.status.busy": "2024-04-21T06:50:15.384962Z",
     "iopub.status.idle": "2024-04-21T06:50:15.393251Z",
     "shell.execute_reply": "2024-04-21T06:50:15.392355Z"
    },
    "papermill": {
     "duration": 0.028676,
     "end_time": "2024-04-21T06:50:15.395204",
     "exception": false,
     "start_time": "2024-04-21T06:50:15.366528",
     "status": "completed"
    },
    "tags": []
   },
   "outputs": [
    {
     "data": {
      "text/plain": [
       "71.0204081632653"
      ]
     },
     "execution_count": 55,
     "metadata": {},
     "output_type": "execute_result"
    }
   ],
   "source": [
    "test_data_accuracy = accuracy_score(y_test, predictions)\n",
    "test_data_accuracy*100"
   ]
  },
  {
   "cell_type": "markdown",
   "id": "a2c3233d",
   "metadata": {
    "papermill": {
     "duration": 0.0206,
     "end_time": "2024-04-21T06:50:15.433238",
     "exception": false,
     "start_time": "2024-04-21T06:50:15.412638",
     "status": "completed"
    },
    "tags": []
   },
   "source": [
    "#### Hence overall bagging(Decision Tree) at ~95%\n",
    "#### while stacking(logistic regression, SVM) comes in second with ~ 93%"
   ]
  }
 ],
 "metadata": {
  "kaggle": {
   "accelerator": "none",
   "dataSources": [
    {
     "datasetId": 817523,
     "sourceId": 1399417,
     "sourceType": "datasetVersion"
    }
   ],
   "dockerImageVersionId": 30702,
   "isGpuEnabled": false,
   "isInternetEnabled": true,
   "language": "python",
   "sourceType": "notebook"
  },
  "kernelspec": {
   "display_name": "Python 3",
   "language": "python",
   "name": "python3"
  },
  "language_info": {
   "codemirror_mode": {
    "name": "ipython",
    "version": 3
   },
   "file_extension": ".py",
   "mimetype": "text/x-python",
   "name": "python",
   "nbconvert_exporter": "python",
   "pygments_lexer": "ipython3",
   "version": "3.10.12"
  },
  "papermill": {
   "default_parameters": {},
   "duration": 22.584328,
   "end_time": "2024-04-21T06:50:16.376496",
   "environment_variables": {},
   "exception": null,
   "input_path": "__notebook__.ipynb",
   "output_path": "__notebook__.ipynb",
   "parameters": {},
   "start_time": "2024-04-21T06:49:53.792168",
   "version": "2.5.0"
  }
 },
 "nbformat": 4,
 "nbformat_minor": 5
}
