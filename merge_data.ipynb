{
 "cells": [
  {
   "cell_type": "code",
   "execution_count": 11,
   "metadata": {},
   "outputs": [],
   "source": [
    "#merge both files\n",
    "\n",
    "import pandas as pd\n",
    "\n",
    "df1 = pd.read_csv('./Original_data/English_data.csv')\n",
    "df2 = pd.read_csv('./Original_data/Healthy_italian_data.csv')\n",
    "df3 = pd.read_csv('./Original_data/PD_italian_data.csv')"
   ]
  },
  {
   "cell_type": "code",
   "execution_count": 13,
   "metadata": {},
   "outputs": [
    {
     "data": {
      "text/plain": [
       "Index(['name', 'rep', 'MDVP:Fo(Hz)', 'MDVP:Fhi(Hz)', 'MDVP:Flo(Hz)',\n",
       "       'MDVP:Jitter(%)', 'MDVP:Jitter(Abs)', 'MDVP:RAP', 'MDVP:PPQ',\n",
       "       'Jitter:DDP', 'MDVP:Shimmer', 'MDVP:Shimmer(dB)', 'Shimmer:APQ3',\n",
       "       'Shimmer:APQ5', 'MDVP:APQ', 'Shimmer:DDA', 'NHR', 'HNR', 'status',\n",
       "       'RPDE', 'DFA', 'spread1', 'spread2', 'D2', 'PPE', 'language'],\n",
       "      dtype='object')"
      ]
     },
     "execution_count": 13,
     "metadata": {},
     "output_type": "execute_result"
    }
   ],
   "source": [
    "#add language column\n",
    "df2['status'] = '0'\n",
    "df1['language'] = 'English'\n",
    "df2['language'] = 'Italian'\n",
    "df3['language'] = 'Italian'\n",
    "\n",
    "df1.columns"
   ]
  },
  {
   "cell_type": "code",
   "execution_count": 14,
   "metadata": {},
   "outputs": [
    {
     "data": {
      "text/plain": [
       "Index(['Person', 'Wav file', 'average_f0', 'max_f0', 'min_f0',\n",
       "       'jitter_percent', 'jitter_absolute', 'rap', 'ppq', 'shimmer_apq3',\n",
       "       'shimmer_apq5', 'mdvp_shimmer', 'mdvp_shimmer_db', 'jitter_ddp',\n",
       "       'mdvp_apq', 'shimmer_dda', 'nhr', 'hnr', 'spread1', 'spread2', 'ppe',\n",
       "       'rpde', 'd2', 'status', 'language'],\n",
       "      dtype='object')"
      ]
     },
     "execution_count": 14,
     "metadata": {},
     "output_type": "execute_result"
    }
   ],
   "source": [
    "df2.columns\n"
   ]
  },
  {
   "cell_type": "code",
   "execution_count": 15,
   "metadata": {},
   "outputs": [
    {
     "data": {
      "text/plain": [
       "Index(['Person', 'Wav file', 'MDVP:Fo(Hz)', 'MDVP:Fhi(Hz)', 'MDVP:Flo(Hz)',\n",
       "       'MDVP:Jitter(%)', 'MDVP:Jitter(Abs)', 'MDVP:RAP', 'MDVP:PPQ',\n",
       "       'Shimmer:APQ3', 'Shimmer:APQ5', 'MDVP:Shimmer', 'MDVP:Shimmer (dB)',\n",
       "       'Jitter:DDP', 'MDVP:APQ', 'Shimmer:DDA', 'NHR', 'HNR', 'spread1',\n",
       "       'spread2', 'PPE', 'RPDE', 'D2', 'status', 'language'],\n",
       "      dtype='object')"
      ]
     },
     "execution_count": 15,
     "metadata": {},
     "output_type": "execute_result"
    }
   ],
   "source": [
    "df3.columns"
   ]
  },
  {
   "cell_type": "code",
   "execution_count": 16,
   "metadata": {},
   "outputs": [],
   "source": [
    "#change df2 columns to df3 columns\n",
    "df2.columns = df3.columns"
   ]
  },
  {
   "cell_type": "code",
   "execution_count": 17,
   "metadata": {},
   "outputs": [
    {
     "data": {
      "text/plain": [
       "Index(['Person', 'Wav file', 'MDVP:Fo(Hz)', 'MDVP:Fhi(Hz)', 'MDVP:Flo(Hz)',\n",
       "       'MDVP:Jitter(%)', 'MDVP:Jitter(Abs)', 'MDVP:RAP', 'MDVP:PPQ',\n",
       "       'Shimmer:APQ3', 'Shimmer:APQ5', 'MDVP:Shimmer', 'MDVP:Shimmer (dB)',\n",
       "       'Jitter:DDP', 'MDVP:APQ', 'Shimmer:DDA', 'NHR', 'HNR', 'spread1',\n",
       "       'spread2', 'PPE', 'RPDE', 'D2', 'status', 'language'],\n",
       "      dtype='object')"
      ]
     },
     "execution_count": 17,
     "metadata": {},
     "output_type": "execute_result"
    }
   ],
   "source": [
    "df2.columns"
   ]
  },
  {
   "cell_type": "code",
   "execution_count": 23,
   "metadata": {},
   "outputs": [],
   "source": [
    "#rename df1 columns\n",
    "df1.drop(columns='DFA', inplace=True)\n",
    "df1.rename(columns={'name':'Person','rep':'Wav file','MDVP:Shimmer(dB)':'MDVP:Shimmer (dB)'}, inplace=True)"
   ]
  },
  {
   "cell_type": "code",
   "execution_count": 24,
   "metadata": {},
   "outputs": [],
   "source": [
    "#merge df\n",
    "df = pd.concat([df1, df2, df3])\n",
    "\n",
    "#save to csv\n",
    "df.to_csv('Final_data.csv', index=False)"
   ]
  }
 ],
 "metadata": {
  "kernelspec": {
   "display_name": "env",
   "language": "python",
   "name": "python3"
  },
  "language_info": {
   "codemirror_mode": {
    "name": "ipython",
    "version": 3
   },
   "file_extension": ".py",
   "mimetype": "text/x-python",
   "name": "python",
   "nbconvert_exporter": "python",
   "pygments_lexer": "ipython3",
   "version": "3.10.12"
  }
 },
 "nbformat": 4,
 "nbformat_minor": 2
}
